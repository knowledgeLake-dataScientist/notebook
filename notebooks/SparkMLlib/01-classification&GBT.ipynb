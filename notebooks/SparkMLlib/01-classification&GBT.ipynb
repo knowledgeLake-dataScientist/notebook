{
 "cells": [
  {
   "cell_type": "code",
   "execution_count": 1,
   "metadata": {
    "collapsed": true
   },
   "outputs": [],
   "source": [
    "from pyspark import SparkContext,SparkConf"
   ]
  },
  {
   "cell_type": "code",
   "execution_count": 2,
   "metadata": {
    "collapsed": true
   },
   "outputs": [],
   "source": [
    "sc=SparkContext()"
   ]
  },
  {
   "cell_type": "code",
   "execution_count": 3,
   "metadata": {
    "collapsed": true
   },
   "outputs": [],
   "source": [
    "data_file=\"/data/kdd/kddcup.data_10_percent\"\n",
    "raw_data=sc.textFile(data_file)"
   ]
  },
  {
   "cell_type": "code",
   "execution_count": 4,
   "metadata": {},
   "outputs": [
    {
     "name": "stdout",
     "output_type": "stream",
     "text": [
      "Train data size is 494021\n"
     ]
    }
   ],
   "source": [
    "print \"Train data size is {}\".format(raw_data.count())"
   ]
  },
  {
   "cell_type": "code",
   "execution_count": 5,
   "metadata": {},
   "outputs": [
    {
     "name": "stdout",
     "output_type": "stream",
     "text": [
      "Test data size is 311029\n"
     ]
    }
   ],
   "source": [
    "test_data_file=\"/data/kdd/corrected\"\n",
    "test_raw_data=sc.textFile(test_data_file)\n",
    "print \"Test data size is {}\".format(test_raw_data.count())"
   ]
  },
  {
   "cell_type": "code",
   "execution_count": 6,
   "metadata": {
    "collapsed": true
   },
   "outputs": [],
   "source": [
    "from pyspark.mllib.regression import LabeledPoint\n",
    "from numpy import array\n",
    "\n",
    "csv_data = raw_data.map(lambda x: x.split(\",\"))\n",
    "test_csv_data = test_raw_data.map(lambda x: x.split(\",\"))\n",
    "\n",
    "protocols = csv_data.map(lambda x: x[1]).distinct().collect()\n",
    "services = csv_data.map(lambda x: x[2]).distinct().collect()\n",
    "flags = csv_data.map(lambda x: x[3]).distinct().collect()"
   ]
  },
  {
   "cell_type": "code",
   "execution_count": 7,
   "metadata": {
    "collapsed": true
   },
   "outputs": [],
   "source": [
    "def create_labeled_point(line_split):\n",
    "    # leave_out = [41]\n",
    "    clean_line_split = line_split[0:41]\n",
    "    \n",
    "    # convert protocol to numeric categorical variable\n",
    "    try: \n",
    "        clean_line_split[1] = protocols.index(clean_line_split[1])\n",
    "    except:\n",
    "        clean_line_split[1] = len(protocols)\n",
    "        \n",
    "    # convert service to numeric categorical variable\n",
    "    try:\n",
    "        clean_line_split[2] = services.index(clean_line_split[2])\n",
    "    except:\n",
    "        clean_line_split[2] = len(services)\n",
    "    \n",
    "    # convert flag to numeric categorical variable\n",
    "    try:\n",
    "        clean_line_split[3] = flags.index(clean_line_split[3])\n",
    "    except:\n",
    "        clean_line_split[3] = len(flags)\n",
    "    \n",
    "    # convert label to binary label\n",
    "    attack = 1.0\n",
    "    if line_split[41]=='normal.':\n",
    "        attack = 0.0\n",
    "        \n",
    "    return LabeledPoint(attack, array([float(x) for x in clean_line_split]))\n",
    "\n",
    "training_data = csv_data.map(create_labeled_point)\n",
    "test_data = test_csv_data.map(create_labeled_point)"
   ]
  },
  {
   "cell_type": "code",
   "execution_count": 10,
   "metadata": {},
   "outputs": [
    {
     "name": "stdout",
     "output_type": "stream",
     "text": [
      "Classifier trained in 22.223 seconds\n"
     ]
    }
   ],
   "source": [
    "from pyspark.mllib.tree import GradientBoostedTrees, GradientBoostedTreesModel\n",
    "from time import time\n",
    "\n",
    "t0=time()\n",
    "tree_model = GradientBoostedTrees.trainClassifier(training_data,\n",
    "                                                 categoricalFeaturesInfo={1: len(protocols), 2: len(services), 3: len(flags)}, \n",
    "                                                 numIterations=3,maxBins=100)\n",
    "\n",
    "tt = time() - t0\n",
    "\n",
    "print \"Classifier trained in {} seconds\".format(round(tt,3))"
   ]
  },
  {
   "cell_type": "code",
   "execution_count": 11,
   "metadata": {
    "collapsed": true
   },
   "outputs": [],
   "source": [
    "predictions = tree_model.predict(test_data.map(lambda p: p.features))\n",
    "labels_and_preds = test_data.map(lambda p: p.label).zip(predictions)"
   ]
  },
  {
   "cell_type": "code",
   "execution_count": 12,
   "metadata": {},
   "outputs": [
    {
     "name": "stdout",
     "output_type": "stream",
     "text": [
      "Prediction made in 9.707 seconds. Test accuracy is 0.9207\n"
     ]
    }
   ],
   "source": [
    "t0 = time()\n",
    "test_accuracy = labels_and_preds.filter(lambda (v, p): v == p).count() / float(test_data.count())\n",
    "tt = time() - t0\n",
    "\n",
    "print \"Prediction made in {} seconds. Test accuracy is {}\".format(round(tt,3), round(test_accuracy,4))"
   ]
  },
  {
   "cell_type": "code",
   "execution_count": 13,
   "metadata": {},
   "outputs": [
    {
     "name": "stdout",
     "output_type": "stream",
     "text": [
      "Learned classification tree model:\n",
      "TreeEnsembleModel classifier with 3 trees\n",
      "\n",
      "  Tree 0:\n",
      "    If (feature 22 <= 84.0)\n",
      "     If (feature 3 in {10.0,1.0,6.0,2.0,3.0,4.0})\n",
      "      If (feature 9 <= 1.0)\n",
      "       Predict: -0.9190060376228731\n",
      "      Else (feature 9 > 1.0)\n",
      "       Predict: 0.7106441612125387\n",
      "     Else (feature 3 not in {10.0,1.0,6.0,2.0,3.0,4.0})\n",
      "      If (feature 2 in {52.0,57.0,3.0})\n",
      "       Predict: -0.43859649122807015\n",
      "      Else (feature 2 not in {52.0,57.0,3.0})\n",
      "       Predict: 0.9779353821907013\n",
      "    Else (feature 22 > 84.0)\n",
      "     If (feature 5 <= 0.0)\n",
      "      If (feature 11 <= 0.0)\n",
      "       Predict: 1.0\n",
      "      Else (feature 11 > 0.0)\n",
      "       Predict: -1.0\n",
      "     Else (feature 5 > 0.0)\n",
      "      If (feature 2 in {0.0,65.0,3.0,8.0,19.0})\n",
      "       Predict: -0.9968\n",
      "      Else (feature 2 not in {0.0,65.0,3.0,8.0,19.0})\n",
      "       Predict: 0.6666666666666666\n",
      "  Tree 1:\n",
      "    If (feature 2 in {56.0,25.0,46.0,57.0,6.0,65.0,9.0,41.0,45.0,27.0,3.0,8.0,19.0,4.0})\n",
      "     If (feature 12 <= 0.0)\n",
      "      If (feature 28 <= 0.19)\n",
      "       Predict: 0.482823933783146\n",
      "      Else (feature 28 > 0.19)\n",
      "       Predict: -0.5495455329763552\n",
      "     Else (feature 12 > 0.0)\n",
      "      If (feature 12 <= 1.0)\n",
      "       Predict: 0.7690418163088055\n",
      "      Else (feature 12 > 1.0)\n",
      "       Predict: -3.2221612210966746\n",
      "    Else (feature 2 not in {56.0,25.0,46.0,57.0,6.0,65.0,9.0,41.0,45.0,27.0,3.0,8.0,19.0,4.0})\n",
      "     If (feature 31 <= 6.0)\n",
      "      If (feature 36 <= 0.06)\n",
      "       Predict: 1.879647629516833\n",
      "      Else (feature 36 > 0.06)\n",
      "       Predict: 3.3726253315563226\n",
      "     Else (feature 31 > 6.0)\n",
      "      If (feature 22 <= 9.0)\n",
      "       Predict: -0.2421084730833065\n",
      "      Else (feature 22 > 9.0)\n",
      "       Predict: 0.4846428769394196\n",
      "  Tree 2:\n",
      "    If (feature 2 in {56.0,25.0,46.0,57.0,6.0,65.0,9.0,41.0,45.0,27.0,3.0,8.0,19.0,4.0})\n",
      "     If (feature 12 <= 0.0)\n",
      "      If (feature 28 <= 0.19)\n",
      "       Predict: 0.4433078238450388\n",
      "      Else (feature 28 > 0.19)\n",
      "       Predict: -0.4993576011916135\n",
      "     Else (feature 12 > 0.0)\n",
      "      If (feature 4 <= 335.0)\n",
      "       Predict: -1.5320942374079034\n",
      "      Else (feature 4 > 335.0)\n",
      "       Predict: 0.6825134740487584\n",
      "    Else (feature 2 not in {56.0,25.0,46.0,57.0,6.0,65.0,9.0,41.0,45.0,27.0,3.0,8.0,19.0,4.0})\n",
      "     If (feature 31 <= 11.0)\n",
      "      If (feature 36 <= 0.06)\n",
      "       Predict: 1.2724118856001236\n",
      "      Else (feature 36 > 0.06)\n",
      "       Predict: 2.96745101862667\n",
      "     Else (feature 31 > 11.0)\n",
      "      If (feature 22 <= 8.0)\n",
      "       Predict: -0.265716431229167\n",
      "      Else (feature 22 > 8.0)\n",
      "       Predict: 0.4452103252485583\n",
      "\n"
     ]
    }
   ],
   "source": [
    "print \"Learned classification tree model:\"\n",
    "print tree_model.toDebugString()"
   ]
  },
  {
   "cell_type": "code",
   "execution_count": null,
   "metadata": {
    "collapsed": true
   },
   "outputs": [],
   "source": []
  }
 ],
 "metadata": {
  "kernelspec": {
   "display_name": "Python 2",
   "language": "python",
   "name": "python2"
  },
  "language_info": {
   "codemirror_mode": {
    "name": "ipython",
    "version": 2
   },
   "file_extension": ".py",
   "mimetype": "text/x-python",
   "name": "python",
   "nbconvert_exporter": "python",
   "pygments_lexer": "ipython2",
   "version": "2.7.13"
  }
 },
 "nbformat": 4,
 "nbformat_minor": 2
}
