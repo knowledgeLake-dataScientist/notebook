{
 "cells": [
  {
   "cell_type": "code",
   "execution_count": 1,
   "metadata": {
    "collapsed": true
   },
   "outputs": [],
   "source": [
    "from pyspark import SparkContext,SparkConf"
   ]
  },
  {
   "cell_type": "code",
   "execution_count": 2,
   "metadata": {
    "collapsed": true
   },
   "outputs": [],
   "source": [
    "sc=SparkContext()"
   ]
  },
  {
   "cell_type": "code",
   "execution_count": 3,
   "metadata": {
    "collapsed": true
   },
   "outputs": [],
   "source": [
    "data_file=\"/data/kdd/kddcup.data_10_percent.gz\"\n",
    "raw_data=sc.textFile(data_file)"
   ]
  },
  {
   "cell_type": "code",
   "execution_count": 4,
   "metadata": {
    "collapsed": true
   },
   "outputs": [],
   "source": [
    "# Getting attack interactions using substract\n",
    "normal_raw_data=raw_data.filter(lambda x:\"normal.\" in x)"
   ]
  },
  {
   "cell_type": "code",
   "execution_count": 6,
   "metadata": {},
   "outputs": [],
   "source": [
    "attack_raw_data=raw_data.subtract(normal_raw_data)"
   ]
  },
  {
   "cell_type": "code",
   "execution_count": 7,
   "metadata": {},
   "outputs": [
    {
     "name": "stdout",
     "output_type": "stream",
     "text": [
      "All count in 2.368 secs\n"
     ]
    }
   ],
   "source": [
    "from time import time\n",
    "t0=time()\n",
    "raw_data_count=raw_data.count()\n",
    "tt=time()-t0\n",
    "print \"All count in {} secs\".format(round(tt,3))"
   ]
  },
  {
   "cell_type": "code",
   "execution_count": 8,
   "metadata": {},
   "outputs": [
    {
     "name": "stdout",
     "output_type": "stream",
     "text": [
      "Normal count in 1.796 secs\n"
     ]
    }
   ],
   "source": [
    "t0=time()\n",
    "normal_raw_data_count=normal_raw_data.count()\n",
    "tt=time()-t0\n",
    "print \"Normal count in {} secs\".format(round(tt,3))"
   ]
  },
  {
   "cell_type": "code",
   "execution_count": 9,
   "metadata": {},
   "outputs": [
    {
     "name": "stdout",
     "output_type": "stream",
     "text": [
      "Attack count in 6.099 secs\n"
     ]
    }
   ],
   "source": [
    "t0=time()\n",
    "attack_raw_data_count=attack_raw_data.count()\n",
    "tt=time()-t0\n",
    "print \"Attack count in {} secs\".format(round(tt,3))"
   ]
  },
  {
   "cell_type": "code",
   "execution_count": 10,
   "metadata": {},
   "outputs": [
    {
     "name": "stdout",
     "output_type": "stream",
     "text": [
      "There are 97278 normal interactions and 396743 attacks, from a total of 494021 interactions\n"
     ]
    }
   ],
   "source": [
    "print \"There are {} normal interactions and {} attacks, \\\n",
    "from a total of {} interactions\".format(normal_raw_data_count,attack_raw_data_count,raw_data_count)"
   ]
  },
  {
   "cell_type": "code",
   "execution_count": null,
   "metadata": {
    "collapsed": true
   },
   "outputs": [],
   "source": []
  }
 ],
 "metadata": {
  "kernelspec": {
   "display_name": "Python 2",
   "language": "python",
   "name": "python2"
  },
  "language_info": {
   "codemirror_mode": {
    "name": "ipython",
    "version": 2
   },
   "file_extension": ".py",
   "mimetype": "text/x-python",
   "name": "python",
   "nbconvert_exporter": "python",
   "pygments_lexer": "ipython2",
   "version": "2.7.13"
  }
 },
 "nbformat": 4,
 "nbformat_minor": 2
}
