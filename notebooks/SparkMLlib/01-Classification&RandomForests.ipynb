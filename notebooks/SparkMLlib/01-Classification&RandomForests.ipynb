{
 "cells": [
  {
   "cell_type": "code",
   "execution_count": 1,
   "metadata": {
    "collapsed": true
   },
   "outputs": [],
   "source": [
    "from pyspark import SparkContext,SparkConf"
   ]
  },
  {
   "cell_type": "code",
   "execution_count": 2,
   "metadata": {
    "collapsed": true
   },
   "outputs": [],
   "source": [
    "sc=SparkContext()"
   ]
  },
  {
   "cell_type": "code",
   "execution_count": 3,
   "metadata": {
    "collapsed": true
   },
   "outputs": [],
   "source": [
    "data_file=\"/data/kdd/kddcup.data_10_percent\"\n",
    "raw_data=sc.textFile(data_file)"
   ]
  },
  {
   "cell_type": "code",
   "execution_count": 4,
   "metadata": {},
   "outputs": [
    {
     "name": "stdout",
     "output_type": "stream",
     "text": [
      "Train data size is 494021\n"
     ]
    }
   ],
   "source": [
    "print \"Train data size is {}\".format(raw_data.count())"
   ]
  },
  {
   "cell_type": "code",
   "execution_count": 5,
   "metadata": {},
   "outputs": [
    {
     "name": "stdout",
     "output_type": "stream",
     "text": [
      "Test data size is 311029\n"
     ]
    }
   ],
   "source": [
    "test_data_file=\"/data/kdd/corrected\"\n",
    "test_raw_data=sc.textFile(test_data_file)\n",
    "print \"Test data size is {}\".format(test_raw_data.count())"
   ]
  },
  {
   "cell_type": "code",
   "execution_count": 6,
   "metadata": {
    "collapsed": true
   },
   "outputs": [],
   "source": [
    "from pyspark.mllib.regression import LabeledPoint\n",
    "from numpy import array\n",
    "\n",
    "csv_data = raw_data.map(lambda x: x.split(\",\"))\n",
    "test_csv_data = test_raw_data.map(lambda x: x.split(\",\"))\n",
    "\n",
    "protocols = csv_data.map(lambda x: x[1]).distinct().collect()\n",
    "services = csv_data.map(lambda x: x[2]).distinct().collect()\n",
    "flags = csv_data.map(lambda x: x[3]).distinct().collect()"
   ]
  },
  {
   "cell_type": "code",
   "execution_count": 7,
   "metadata": {
    "collapsed": true
   },
   "outputs": [],
   "source": [
    "def create_labeled_point(line_split):\n",
    "    # leave_out = [41]\n",
    "    clean_line_split = line_split[0:41]\n",
    "    \n",
    "    # convert protocol to numeric categorical variable\n",
    "    try: \n",
    "        clean_line_split[1] = protocols.index(clean_line_split[1])\n",
    "    except:\n",
    "        clean_line_split[1] = len(protocols)\n",
    "        \n",
    "    # convert service to numeric categorical variable\n",
    "    try:\n",
    "        clean_line_split[2] = services.index(clean_line_split[2])\n",
    "    except:\n",
    "        clean_line_split[2] = len(services)\n",
    "    \n",
    "    # convert flag to numeric categorical variable\n",
    "    try:\n",
    "        clean_line_split[3] = flags.index(clean_line_split[3])\n",
    "    except:\n",
    "        clean_line_split[3] = len(flags)\n",
    "    \n",
    "    # convert label to binary label\n",
    "    attack = 1.0\n",
    "    if line_split[41]=='normal.':\n",
    "        attack = 0.0\n",
    "        \n",
    "    return LabeledPoint(attack, array([float(x) for x in clean_line_split]))\n",
    "\n",
    "training_data = csv_data.map(create_labeled_point)\n",
    "test_data = test_csv_data.map(create_labeled_point)"
   ]
  },
  {
   "cell_type": "code",
   "execution_count": 9,
   "metadata": {},
   "outputs": [
    {
     "name": "stdout",
     "output_type": "stream",
     "text": [
      "Classifier trained in 18.931 seconds\n"
     ]
    }
   ],
   "source": [
    "from pyspark.mllib.tree import RandomForest, RandomForestModel\n",
    "from time import time\n",
    "\n",
    "t0 = time()\n",
    "model = RandomForest.trainClassifier(training_data, numClasses=2, \n",
    "                                     categoricalFeaturesInfo={1: len(protocols), 2: len(services), 3: len(flags)},\n",
    "                                     numTrees=3, featureSubsetStrategy=\"auto\",\n",
    "                                     impurity='gini', maxDepth=4, maxBins=100)\n",
    "tt=time()-t0\n",
    "print \"Classifier trained in {} seconds\".format(round(tt,3))"
   ]
  },
  {
   "cell_type": "code",
   "execution_count": 10,
   "metadata": {
    "collapsed": true
   },
   "outputs": [],
   "source": [
    "predictions = model.predict(test_data.map(lambda p: p.features))\n",
    "labels_and_preds = test_data.map(lambda p: p.label).zip(predictions)"
   ]
  },
  {
   "cell_type": "code",
   "execution_count": 11,
   "metadata": {},
   "outputs": [
    {
     "name": "stdout",
     "output_type": "stream",
     "text": [
      "Prediction made in 9.78 seconds. Test accuracy is 0.923\n"
     ]
    }
   ],
   "source": [
    "t0 = time()\n",
    "test_accuracy = labels_and_preds.filter(lambda (v, p): v == p).count() / float(test_data.count())\n",
    "tt = time() - t0\n",
    "\n",
    "print \"Prediction made in {} seconds. Test accuracy is {}\".format(round(tt,3), round(test_accuracy,4))"
   ]
  },
  {
   "cell_type": "code",
   "execution_count": 13,
   "metadata": {},
   "outputs": [
    {
     "name": "stdout",
     "output_type": "stream",
     "text": [
      "Learned classification tree model:\n",
      "TreeEnsembleModel classifier with 3 trees\n",
      "\n",
      "  Tree 0:\n",
      "    If (feature 22 <= 59.0)\n",
      "     If (feature 35 <= 0.99)\n",
      "      If (feature 25 <= 0.2)\n",
      "       If (feature 40 <= 0.01)\n",
      "        Predict: 0.0\n",
      "       Else (feature 40 > 0.01)\n",
      "        Predict: 0.0\n",
      "      Else (feature 25 > 0.2)\n",
      "       If (feature 32 <= 86.0)\n",
      "        Predict: 1.0\n",
      "       Else (feature 32 > 86.0)\n",
      "        Predict: 0.0\n",
      "     Else (feature 35 > 0.99)\n",
      "      If (feature 2 in {10.0,24.0,25.0,52.0,20.0,46.0,38.0,33.0,65.0,41.0,2.0,45.0,22.0,49.0,3.0,35.0,63.0,50.0,43.0,8.0,58.0,36.0,19.0,4.0,62.0})\n",
      "       If (feature 4 <= 1028.0)\n",
      "        Predict: 0.0\n",
      "       Else (feature 4 > 1028.0)\n",
      "        Predict: 1.0\n",
      "      Else (feature 2 not in {10.0,24.0,25.0,52.0,20.0,46.0,38.0,33.0,65.0,41.0,2.0,45.0,22.0,49.0,3.0,35.0,63.0,50.0,43.0,8.0,58.0,36.0,19.0,4.0,62.0})\n",
      "       If (feature 36 <= 0.06)\n",
      "        Predict: 1.0\n",
      "       Else (feature 36 > 0.06)\n",
      "        Predict: 1.0\n",
      "    Else (feature 22 > 59.0)\n",
      "     If (feature 1 in {0.0})\n",
      "      If (feature 35 <= 0.01)\n",
      "       If (feature 35 <= 0.0)\n",
      "        Predict: 0.0\n",
      "       Else (feature 35 > 0.0)\n",
      "        Predict: 0.0\n",
      "      Else (feature 35 > 0.01)\n",
      "       If (feature 5 <= 0.0)\n",
      "        Predict: 1.0\n",
      "       Else (feature 5 > 0.0)\n",
      "        Predict: 0.0\n",
      "     Else (feature 1 not in {0.0})\n",
      "      If (feature 11 <= 0.0)\n",
      "       Predict: 1.0\n",
      "      Else (feature 11 > 0.0)\n",
      "       If (feature 39 <= 0.05)\n",
      "        Predict: 0.0\n",
      "       Else (feature 39 > 0.05)\n",
      "        Predict: 1.0\n",
      "  Tree 1:\n",
      "    If (feature 36 <= 0.0)\n",
      "     If (feature 35 <= 0.99)\n",
      "      If (feature 4 <= 28.0)\n",
      "       If (feature 28 <= 0.99)\n",
      "        Predict: 1.0\n",
      "       Else (feature 28 > 0.99)\n",
      "        Predict: 1.0\n",
      "      Else (feature 4 > 28.0)\n",
      "       If (feature 12 <= 0.0)\n",
      "        Predict: 0.0\n",
      "       Else (feature 12 > 0.0)\n",
      "        Predict: 1.0\n",
      "     Else (feature 35 > 0.99)\n",
      "      If (feature 1 in {0.0})\n",
      "       If (feature 4 <= 6.0)\n",
      "        Predict: 1.0\n",
      "       Else (feature 4 > 6.0)\n",
      "        Predict: 0.0\n",
      "      Else (feature 1 not in {0.0})\n",
      "       If (feature 32 <= 252.0)\n",
      "        Predict: 1.0\n",
      "       Else (feature 32 > 252.0)\n",
      "        Predict: 1.0\n",
      "    Else (feature 36 > 0.0)\n",
      "     If (feature 31 <= 2.0)\n",
      "      If (feature 39 <= 0.0)\n",
      "       If (feature 32 <= 254.0)\n",
      "        Predict: 1.0\n",
      "       Else (feature 32 > 254.0)\n",
      "        Predict: 0.0\n",
      "      Else (feature 39 > 0.0)\n",
      "       If (feature 2 in {3.0,8.0})\n",
      "        Predict: 0.0\n",
      "       Else (feature 2 not in {3.0,8.0})\n",
      "        Predict: 1.0\n",
      "     Else (feature 31 > 2.0)\n",
      "      If (feature 35 <= 0.99)\n",
      "       If (feature 29 <= 0.0)\n",
      "        Predict: 0.0\n",
      "       Else (feature 29 > 0.0)\n",
      "        Predict: 0.0\n",
      "      Else (feature 35 > 0.99)\n",
      "       If (feature 1 in {0.0})\n",
      "        Predict: 0.0\n",
      "       Else (feature 1 not in {0.0})\n",
      "        Predict: 1.0\n",
      "  Tree 2:\n",
      "    If (feature 2 in {0.0,10.0,56.0,42.0,24.0,37.0,25.0,52.0,14.0,20.0,46.0,57.0,29.0,61.0,1.0,60.0,28.0,38.0,21.0,33.0,65.0,9.0,53.0,13.0,41.0,2.0,32.0,34.0,45.0,64.0,17.0,22.0,44.0,59.0,27.0,12.0,54.0,7.0,39.0,3.0,35.0,48.0,63.0,18.0,50.0,16.0,31.0,11.0,43.0,40.0,26.0,55.0,23.0,8.0,58.0,36.0,30.0,51.0,19.0,4.0,47.0,15.0,62.0})\n",
      "     If (feature 22 <= 102.0)\n",
      "      If (feature 36 <= 0.44)\n",
      "       If (feature 25 <= 0.2)\n",
      "        Predict: 0.0\n",
      "       Else (feature 25 > 0.2)\n",
      "        Predict: 1.0\n",
      "      Else (feature 36 > 0.44)\n",
      "       If (feature 31 <= 2.0)\n",
      "        Predict: 1.0\n",
      "       Else (feature 31 > 2.0)\n",
      "        Predict: 0.0\n",
      "     Else (feature 22 > 102.0)\n",
      "      If (feature 28 <= 0.23)\n",
      "       If (feature 12 <= 0.0)\n",
      "        Predict: 1.0\n",
      "       Else (feature 12 > 0.0)\n",
      "        Predict: 0.0\n",
      "      Else (feature 28 > 0.23)\n",
      "       Predict: 0.0\n",
      "    Else (feature 2 not in {0.0,10.0,56.0,42.0,24.0,37.0,25.0,52.0,14.0,20.0,46.0,57.0,29.0,61.0,1.0,60.0,28.0,38.0,21.0,33.0,65.0,9.0,53.0,13.0,41.0,2.0,32.0,34.0,45.0,64.0,17.0,22.0,44.0,59.0,27.0,12.0,54.0,7.0,39.0,3.0,35.0,48.0,63.0,18.0,50.0,16.0,31.0,11.0,43.0,40.0,26.0,55.0,23.0,8.0,58.0,36.0,30.0,51.0,19.0,4.0,47.0,15.0,62.0})\n",
      "     If (feature 2 in {5.0})\n",
      "      If (feature 3 in {0.0,5.0,10.0,9.0,3.0,8.0})\n",
      "       If (feature 33 <= 0.68)\n",
      "        Predict: 1.0\n",
      "       Else (feature 33 > 0.68)\n",
      "        Predict: 0.0\n",
      "      Else (feature 3 not in {0.0,5.0,10.0,9.0,3.0,8.0})\n",
      "       Predict: 1.0\n",
      "     Else (feature 2 not in {5.0})\n",
      "      If (feature 39 <= 0.57)\n",
      "       If (feature 23 <= 2.0)\n",
      "        Predict: 0.0\n",
      "       Else (feature 23 > 2.0)\n",
      "        Predict: 1.0\n",
      "      Else (feature 39 > 0.57)\n",
      "       Predict: 0.0\n",
      "\n"
     ]
    }
   ],
   "source": [
    "print \"Learned classification tree model:\"\n",
    "print model.toDebugString()"
   ]
  },
  {
   "cell_type": "code",
   "execution_count": null,
   "metadata": {
    "collapsed": true
   },
   "outputs": [],
   "source": []
  }
 ],
 "metadata": {
  "kernelspec": {
   "display_name": "Python 2",
   "language": "python",
   "name": "python2"
  },
  "language_info": {
   "codemirror_mode": {
    "name": "ipython",
    "version": 2
   },
   "file_extension": ".py",
   "mimetype": "text/x-python",
   "name": "python",
   "nbconvert_exporter": "python",
   "pygments_lexer": "ipython2",
   "version": "2.7.13"
  }
 },
 "nbformat": 4,
 "nbformat_minor": 2
}
