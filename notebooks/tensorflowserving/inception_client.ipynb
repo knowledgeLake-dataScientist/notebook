{
 "cells": [
  {
   "cell_type": "code",
   "execution_count": 3,
   "metadata": {
    "collapsed": true
   },
   "outputs": [],
   "source": [
    "\n",
    "\"\"\"Send JPEG image to tensorflow_model_server loaded with inception model.\n",
    "\"\"\"\n",
    "\n",
    "from __future__ import print_function\n",
    "\n",
    "# This is a placeholder for a Google-internal import.\n",
    "\n",
    "from grpc.beta import implementations\n",
    "import tensorflow as tf\n",
    "\n",
    "from tensorflow_serving.apis import predict_pb2\n",
    "from tensorflow_serving.apis import prediction_service_pb2\n"
   ]
  },
  {
   "cell_type": "code",
   "execution_count": 10,
   "metadata": {},
   "outputs": [],
   "source": [
    "#tf.app.flags.DEFINE_string('server', 'localhost:9000', 'PredictionService host:port')\n",
    "#tf.app.flags.DEFINE_string(\"server\", \"localhost:9000\", \"PredictionService host:port\")  \n",
    "#tf.app.flags.DEFINE_string('image', '', 'path to image in JPEG format')\n",
    "#FLAGS = tf.app.flags.FLAGS"
   ]
  },
  {
   "cell_type": "code",
   "execution_count": 12,
   "metadata": {},
   "outputs": [
    {
     "name": "stdout",
     "output_type": "stream",
     "text": [
      "outputs {\n",
      "  key: \"classes\"\n",
      "  value {\n",
      "    dtype: DT_STRING\n",
      "    tensor_shape {\n",
      "      dim {\n",
      "        size: 1\n",
      "      }\n",
      "      dim {\n",
      "        size: 5\n",
      "      }\n",
      "    }\n",
      "    string_val: \"kelpie\"\n",
      "    string_val: \"golden retriever\"\n",
      "    string_val: \"German shepherd, German shepherd dog, German police dog, alsatian\"\n",
      "    string_val: \"dingo, warrigal, warragal, Canis dingo\"\n",
      "    string_val: \"chow, chow chow\"\n",
      "  }\n",
      "}\n",
      "outputs {\n",
      "  key: \"scores\"\n",
      "  value {\n",
      "    dtype: DT_FLOAT\n",
      "    tensor_shape {\n",
      "      dim {\n",
      "        size: 1\n",
      "      }\n",
      "      dim {\n",
      "        size: 5\n",
      "      }\n",
      "    }\n",
      "    float_val: 5.91630125046\n",
      "    float_val: 5.28590106964\n",
      "    float_val: 4.97721576691\n",
      "    float_val: 4.93700408936\n",
      "    float_val: 4.6753783226\n",
      "  }\n",
      "}\n",
      "\n"
     ]
    },
    {
     "ename": "SystemExit",
     "evalue": "",
     "output_type": "error",
     "traceback": [
      "An exception has occurred, use %tb to see the full traceback.\n",
      "\u001b[0;31mSystemExit\u001b[0m\n"
     ]
    },
    {
     "name": "stderr",
     "output_type": "stream",
     "text": [
      "/data/1xiu/anaconda2/lib/python2.7/site-packages/IPython/core/interactiveshell.py:2889: UserWarning: To exit: use 'exit', 'quit', or Ctrl-D.\n",
      "  warn(\"To exit: use 'exit', 'quit', or Ctrl-D.\", stacklevel=1)\n"
     ]
    }
   ],
   "source": [
    "def main(_):\n",
    "  #host, port = FLAGS.server.split(':')\n",
    "  host = \"10.110.13.206\"\n",
    "  port = \"9001\"\n",
    "  channel = implementations.insecure_channel(host, int(port))\n",
    "  stub = prediction_service_pb2.beta_create_PredictionService_stub(channel)\n",
    "  # Send request\n",
    "  image=\"/data/1xiu/project/google/serving/demos/4.jpg\"\n",
    "  with open(image, 'rb') as f:  \n",
    "  #with open(FLAGS.image, 'rb') as f:\n",
    "    # See prediction_service.proto for gRPC request/response details.\n",
    "    data = f.read()\n",
    "    request = predict_pb2.PredictRequest()\n",
    "    request.model_spec.name = 'inception'\n",
    "    request.model_spec.signature_name = 'predict_images'\n",
    "    request.inputs['images'].CopyFrom(\n",
    "        tf.contrib.util.make_tensor_proto(data, shape=[1]))\n",
    "    result = stub.Predict(request, 10.0)  # 10 secs timeout\n",
    "    print(result)\n",
    "\n",
    "\n",
    "if __name__ == '__main__':\n",
    "  tf.app.run()"
   ]
  },
  {
   "cell_type": "code",
   "execution_count": null,
   "metadata": {
    "collapsed": true
   },
   "outputs": [],
   "source": []
  }
 ],
 "metadata": {
  "kernelspec": {
   "display_name": "Python 2",
   "language": "python",
   "name": "python2"
  },
  "language_info": {
   "codemirror_mode": {
    "name": "ipython",
    "version": 2
   },
   "file_extension": ".py",
   "mimetype": "text/x-python",
   "name": "python",
   "nbconvert_exporter": "python",
   "pygments_lexer": "ipython2",
   "version": "2.7.13"
  }
 },
 "nbformat": 4,
 "nbformat_minor": 2
}
