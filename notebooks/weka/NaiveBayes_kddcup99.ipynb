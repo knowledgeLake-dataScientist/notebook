{
 "cells": [
  {
   "cell_type": "code",
   "execution_count": 1,
   "metadata": {},
   "outputs": [],
   "source": [
    "#import necessary packages\n",
    "import weka.core.jvm as jvm\n",
    "from weka.core.converters import Loader\n",
    "import weka.core.converters as converters\n",
    "from weka.classifiers import Classifier\n",
    "from weka.classifiers import Evaluation\n",
    "from weka.core.classes import Random\n",
    "import weka.plot.classifiers as plcls\n",
    "#start jvm, do not forget to stop it after use\n",
    "jvm.start()"
   ]
  },
  {
   "cell_type": "code",
   "execution_count": 2,
   "metadata": {
    "collapsed": true
   },
   "outputs": [],
   "source": [
    "#load dataset .arff\n",
    "loader = Loader(classname=\"weka.core.converters.ArffLoader\")\n",
    "data = loader.load_file(\"kddcup_10_percent.arff\")\n",
    "data.class_is_last()"
   ]
  },
  {
   "cell_type": "code",
   "execution_count": 3,
   "metadata": {},
   "outputs": [],
   "source": [
    "#Build classifier(J48, ie C4.5 Decision Tree here) on dataset\n",
    "cls = Classifier(classname=\"weka.classifiers.bayes.NaiveBayes\")\n",
    "cls.build_classifier(data)\n"
   ]
  },
  {
   "cell_type": "code",
   "execution_count": 4,
   "metadata": {},
   "outputs": [],
   "source": [
    "#execute 10-folds cross-validation on the classifier for evaluation, then display ROC curve\n",
    "evl = Evaluation(data)\n",
    "evl.crossvalidate_model(cls, data, 10, Random(1))\n",
    "print(evl.percent_correct)\n",
    "print(evl.summary())\n",
    "print(evl.class_details())\n",
    "\n",
    "plcls.plot_roc(evl, class_index=[0, 1], wait=True)"
   ]
  },
  {
   "cell_type": "code",
   "execution_count": 5,
   "metadata": {
    "collapsed": true
   },
   "outputs": [],
   "source": [
    "#stop the jvm\n",
    "jvm.stop()"
   ]
  },
  {
   "cell_type": "code",
   "execution_count": null,
   "metadata": {
    "collapsed": true
   },
   "outputs": [],
   "source": []
  }
 ],
 "metadata": {
  "kernelspec": {
   "display_name": "Python 2",
   "language": "python",
   "name": "python2"
  },
  "language_info": {
   "codemirror_mode": {
    "name": "ipython",
    "version": 2
   },
   "file_extension": ".py",
   "mimetype": "text/x-python",
   "name": "python",
   "nbconvert_exporter": "python",
   "pygments_lexer": "ipython2",
   "version": "2.7.13"
  }
 },
 "nbformat": 4,
 "nbformat_minor": 2
}
