{
 "cells": [
  {
   "cell_type": "code",
   "execution_count": 1,
   "metadata": {
    "collapsed": true
   },
   "outputs": [],
   "source": [
    "import numpy as np\n",
    "import tensorflow as tf\n",
    "from tensorflow.examples.tutorials.mnist import input_data\n",
    "from tensorflow.contrib import rnn"
   ]
  },
  {
   "cell_type": "code",
   "execution_count": 2,
   "metadata": {},
   "outputs": [
    {
     "name": "stdout",
     "output_type": "stream",
     "text": [
      "Extracting /data/mnist/train-images-idx3-ubyte.gz\n",
      "Extracting /data/mnist/train-labels-idx1-ubyte.gz\n",
      "Extracting /data/mnist/t10k-images-idx3-ubyte.gz\n",
      "Extracting /data/mnist/t10k-labels-idx1-ubyte.gz\n"
     ]
    }
   ],
   "source": [
    "#使用tensorflow自带的工具加载MNIST手写数字集合\n",
    "mnist = input_data.read_data_sets('/data/mnist', one_hot=True)"
   ]
  },
  {
   "cell_type": "code",
   "execution_count": 3,
   "metadata": {},
   "outputs": [
    {
     "data": {
      "text/plain": [
       "(55000, 10)"
      ]
     },
     "execution_count": 3,
     "metadata": {},
     "output_type": "execute_result"
    }
   ],
   "source": [
    "#查看一下数据维度\n",
    "mnist.train.images.shape\n",
    "#查看target维度\n",
    "mnist.train.labels.shape"
   ]
  },
  {
   "cell_type": "code",
   "execution_count": 4,
   "metadata": {
    "collapsed": true
   },
   "outputs": [],
   "source": [
    "learning_rate = 0.001\n",
    "training_iters = 100000\n",
    "batch_size = 128\n",
    "display_step = 10\n",
    "\n",
    "n_input = 28 # MNIST数据输入(shape: 28*28)\n",
    "n_steps = 28 # timesteps\n",
    "n_hidden = 128 # 隐层\n",
    "n_classes = 10 # 总共类别数 (0-9数字)"
   ]
  },
  {
   "cell_type": "code",
   "execution_count": 5,
   "metadata": {
    "collapsed": true
   },
   "outputs": [],
   "source": [
    "def RNN(x, weights, biases):\n",
    "    # 为了适应RNN，把原始的输入调整成'n_steps'个(batch_size, n_input)的tensors\n",
    "    x = tf.unstack(x, n_steps, 1)\n",
    "\n",
    "    # 定义一个lstm cell\n",
    "    lstm_cell = rnn.BasicLSTMCell(n_hidden, forget_bias=1.0)\n",
    "\n",
    "    # 获取输出\n",
    "    outputs, states = rnn.static_rnn(lstm_cell, x, dtype=tf.float32)\n",
    "\n",
    "    # 我们只取RNN的最后一个输出\n",
    "    return tf.matmul(outputs[-1], weights['out']) + biases['out']"
   ]
  },
  {
   "cell_type": "code",
   "execution_count": 6,
   "metadata": {
    "collapsed": true
   },
   "outputs": [],
   "source": [
    "graph = tf.Graph()\n",
    "with graph.as_default():\n",
    "    x = tf.placeholder(\"float\", [None, n_steps, n_input], name='X_placeholder')\n",
    "    y = tf.placeholder(\"float\", [None, n_classes], name='Y_placeholder')\n",
    "    \n",
    "    weights = {    'out': tf.Variable(tf.random_normal([n_hidden, n_classes]), name='Weight')}\n",
    "    biases = {    'out': tf.Variable(tf.random_normal([n_classes]), name='bias')}\n",
    "    \n",
    "    pred = RNN(x, weights, biases)\n",
    "    \n",
    "    cost = tf.reduce_mean(tf.nn.softmax_cross_entropy_with_logits(logits=pred, labels=y), name='loss')\n",
    "    optimizer = tf.train.AdamOptimizer(learning_rate=learning_rate).minimize(cost)\n",
    "    \n",
    "    correct_pred = tf.equal(tf.argmax(pred,1), tf.argmax(y,1))\n",
    "    accuracy = tf.reduce_mean(tf.cast(correct_pred, tf.float32))\n",
    "    \n",
    "    init = tf.global_variables_initializer()\n",
    "    \n",
    "    "
   ]
  },
  {
   "cell_type": "code",
   "execution_count": null,
   "metadata": {},
   "outputs": [
    {
     "name": "stdout",
     "output_type": "stream",
     "text": [
      "Iter 1280, Minibatch Loss= 1.808339, Training Accuracy= 0.41406\n",
      "Iter 2560, Minibatch Loss= 1.495256, Training Accuracy= 0.56250\n",
      "Iter 3840, Minibatch Loss= 1.395385, Training Accuracy= 0.51562\n",
      "Iter 5120, Minibatch Loss= 1.020464, Training Accuracy= 0.65625\n",
      "Iter 6400, Minibatch Loss= 0.806921, Training Accuracy= 0.72656\n",
      "Iter 7680, Minibatch Loss= 0.652273, Training Accuracy= 0.78125\n",
      "Iter 8960, Minibatch Loss= 0.610314, Training Accuracy= 0.82031\n",
      "Iter 10240, Minibatch Loss= 0.718693, Training Accuracy= 0.83594\n",
      "Iter 11520, Minibatch Loss= 0.493892, Training Accuracy= 0.83594\n",
      "Iter 12800, Minibatch Loss= 0.502242, Training Accuracy= 0.82812\n",
      "Iter 14080, Minibatch Loss= 0.554619, Training Accuracy= 0.82031\n",
      "Iter 15360, Minibatch Loss= 0.373100, Training Accuracy= 0.86719\n",
      "Iter 16640, Minibatch Loss= 0.389553, Training Accuracy= 0.86719\n"
     ]
    }
   ],
   "source": [
    "with tf.Session(graph = graph )as sess:\n",
    "    sess.run(init)\n",
    "    writer = tf.summary.FileWriter('./graphs/LSTM_MNIST', sess.graph)\n",
    "    step = 1\n",
    "    # 小于指定的总迭代轮数的情况下，一直训练\n",
    "    while step * batch_size < training_iters:\n",
    "        batch_x, batch_y = mnist.train.next_batch(batch_size)\n",
    "        # 对数据形状调整，编程28个28元素的序列\n",
    "        batch_x = batch_x.reshape((batch_size, n_steps, n_input))\n",
    "        # 用optimizer进行优化\n",
    "        sess.run(optimizer, feed_dict={x: batch_x, y: batch_y})\n",
    "        if step % display_step == 0:\n",
    "            # 计算batch上的准确率\n",
    "            acc = sess.run(accuracy, feed_dict={x: batch_x, y: batch_y})\n",
    "            # 计算batch上的loss\n",
    "            loss = sess.run(cost, feed_dict={x: batch_x, y: batch_y})\n",
    "            print(\"Iter \" + str(step*batch_size) + \", Minibatch Loss= \" + \\\n",
    "                  \"{:.6f}\".format(loss) + \", Training Accuracy= \" + \\\n",
    "                  \"{:.5f}\".format(acc))\n",
    "        step += 1\n",
    "    print(\"Optimization Finished!\")\n",
    "    writer.close()\n",
    "    \n",
    "    test_len = 128\n",
    "    test_data = mnist.test.images[:test_len].reshape((-1, n_steps, n_input))\n",
    "    test_label = mnist.test.labels[:test_len]\n",
    "    print(\"Testing Accuracy:\", \\\n",
    "        sess.run(accuracy, feed_dict={x: test_data, y: test_label}))\n",
    "    "
   ]
  },
  {
   "cell_type": "code",
   "execution_count": null,
   "metadata": {
    "collapsed": true
   },
   "outputs": [],
   "source": []
  }
 ],
 "metadata": {
  "kernelspec": {
   "display_name": "Python 2",
   "language": "python",
   "name": "python2"
  },
  "language_info": {
   "codemirror_mode": {
    "name": "ipython",
    "version": 2
   },
   "file_extension": ".py",
   "mimetype": "text/x-python",
   "name": "python",
   "nbconvert_exporter": "python",
   "pygments_lexer": "ipython2",
   "version": "2.7.13"
  }
 },
 "nbformat": 4,
 "nbformat_minor": 2
}
