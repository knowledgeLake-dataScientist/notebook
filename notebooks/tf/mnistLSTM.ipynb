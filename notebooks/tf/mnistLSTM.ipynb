{
 "cells": [
  {
   "cell_type": "code",
   "execution_count": null,
   "metadata": {
    "collapsed": true
   },
   "outputs": [],
   "source": [
    "import tensorflow as tf  \n",
    "from tensorflow.examples.tutorials.mnist import input_data  \n",
    "from tensorflow.contrib import rnn  \n",
    "  \n",
    "mnist = input_data.read_data_sets('MNIST_data/', one_hot=True)"
   ]
  },
  {
   "cell_type": "code",
   "execution_count": null,
   "metadata": {
    "collapsed": true
   },
   "outputs": [],
   "source": [
    "#parameters\n",
    "n_inputs = 28\n",
    "max_time = 28  \n",
    "lstm_size = 200\n",
    "n_class = 10 \n",
    "batch_size = 50\n",
    "n_batch = mnist.train.num_examples // batch_size\n",
    "  \n",
    "x = tf.placeholder(tf.float32, [None, 784])  \n",
    "y = tf.placeholder(tf.float32, [None, 10])  "
   ]
  },
  {
   "cell_type": "code",
   "execution_count": null,
   "metadata": {
    "collapsed": true
   },
   "outputs": [],
   "source": [
    "#Store weights & biases\n",
    "weights = tf.Variable(tf.truncated_normal([lstm_size, n_class], stddev = 0.1))  \n",
    "biases = tf.Variable(tf.constant(0.1, shape=[n_class]))  "
   ]
  },
  {
   "cell_type": "code",
   "execution_count": null,
   "metadata": {
    "collapsed": true
   },
   "outputs": [],
   "source": [
    "#LSTM\n",
    "def LSTM(X, weights, biases):  \n",
    "    #inputs format : [batch_size, max_time, n_inputs]  \n",
    "    inputs = tf.reshape(X, [-1, max_time, n_inputs])  \n",
    "\n",
    "    lstm_cell = rnn.BasicLSTMCell(lstm_size)  \n",
    "    outputs, final_state = tf.nn.dynamic_rnn(lstm_cell, inputs, dtype=tf.float32)  \n",
    "    results = tf.nn.softmax(tf.matmul(final_state[1], weights) + biases)  \n",
    "    return results "
   ]
  },
  {
   "cell_type": "code",
   "execution_count": null,
   "metadata": {
    "collapsed": true
   },
   "outputs": [],
   "source": [
    "#Construct the model\n",
    "prediction = LSTM(x, weights, biases)"
   ]
  },
  {
   "cell_type": "code",
   "execution_count": null,
   "metadata": {
    "collapsed": true
   },
   "outputs": [],
   "source": [
    "#Define cross_entropy and optimizer\n",
    "cross_entropy = tf.reduce_mean(tf.nn.softmax_cross_entropy_with_logits(labels=y, logits=prediction))  \n",
    "optimizer = tf.train.AdamOptimizer(1e-4).minimize(cross_entropy)"
   ]
  },
  {
   "cell_type": "code",
   "execution_count": null,
   "metadata": {
    "collapsed": true
   },
   "outputs": [],
   "source": [
    "#Evaluate the model\n",
    "correct_prediction = tf.equal(tf.argmax(y, 1), tf.argmax(prediction, 1))  \n",
    "accuracy = tf.reduce_mean(tf.cast(correct_prediction, tf.float32))"
   ]
  },
  {
   "cell_type": "code",
   "execution_count": null,
   "metadata": {
    "collapsed": true
   },
   "outputs": [],
   "source": [
    "#Initializing the variables\n",
    "init = tf.global_variables_initializer()"
   ]
  },
  {
   "cell_type": "code",
   "execution_count": null,
   "metadata": {
    "collapsed": true
   },
   "outputs": [],
   "source": [
    "#Launch the graph\n",
    "with tf.Session() as session:  \n",
    "    session.run(init)  \n",
    "    for epoch in range(60):  \n",
    "        for batch in range(batch_size):  \n",
    "            batch_xs, batch_ys = mnist.train.next_batch(batch_size)  \n",
    "            sess.run(train_step, feed_dict={x:batch_xs, y:batch_ys})  \n",
    "        acc = sess.run(accuracy, feed_dict={x:mnist.test.images, y:mnist.test.labels})  \n",
    "        print 'Iter' + epoch + 'accuracy: ' + acc\n",
    "        \n",
    "    print \"Optimization Finished\"\n",
    "    #Calculate accuracy for the first 256 mnist images\n",
    "    print \"Testing accuracy: \", session.run(accuracy, feed_dict = {x: mnist.test.images[:256], y: mnist.test.labels[:256]})"
   ]
  }
 ],
 "metadata": {
  "kernelspec": {
   "display_name": "Python 2",
   "language": "python",
   "name": "python2"
  },
  "language_info": {
   "codemirror_mode": {
    "name": "ipython",
    "version": 2
   },
   "file_extension": ".py",
   "mimetype": "text/x-python",
   "name": "python",
   "nbconvert_exporter": "python",
   "pygments_lexer": "ipython2",
   "version": "2.7.13"
  }
 },
 "nbformat": 4,
 "nbformat_minor": 2
}
