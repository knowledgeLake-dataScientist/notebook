{
 "cells": [
  {
   "cell_type": "code",
   "execution_count": 2,
   "metadata": {},
   "outputs": [
    {
     "name": "stdout",
     "output_type": "stream",
     "text": [
      "Extracting MNIST_data/train-images-idx3-ubyte.gz\n",
      "Extracting MNIST_data/train-labels-idx1-ubyte.gz\n",
      "Extracting MNIST_data/t10k-images-idx3-ubyte.gz\n",
      "Extracting MNIST_data/t10k-labels-idx1-ubyte.gz\n"
     ]
    }
   ],
   "source": [
    "import numpy as np\n",
    "import tensorflow as tf\n",
    "from tensorflow.examples.tutorials.mnist import input_data\n",
    "\n",
    "mnist = input_data.read_data_sets('MNIST_data/', one_hot=True)"
   ]
  },
  {
   "cell_type": "code",
   "execution_count": 3,
   "metadata": {
    "collapsed": true
   },
   "outputs": [],
   "source": [
    "# Parameters\n",
    "learning_rate = 0.001\n",
    "training_iters = 200000\n",
    "batch_size = 64\n",
    "display_step = 20"
   ]
  },
  {
   "cell_type": "code",
   "execution_count": 4,
   "metadata": {
    "collapsed": true
   },
   "outputs": [],
   "source": [
    "# Network Parameters\n",
    "n_input = 784 # MNIST data input (img shape: 28*28)\n",
    "n_classes = 10 # MNIST total classes (0-9 digits)\n",
    "dropout = 0.8 # Dropout, probability to keep units"
   ]
  },
  {
   "cell_type": "code",
   "execution_count": 5,
   "metadata": {
    "collapsed": true
   },
   "outputs": [],
   "source": [
    "# tf Graph input\n",
    "x = tf.placeholder(tf.float32, [None, n_input])\n",
    "y = tf.placeholder(tf.float32, [None, n_classes])\n",
    "keep_prob = tf.placeholder(tf.float32) # dropout (keep probability)"
   ]
  },
  {
   "cell_type": "code",
   "execution_count": 6,
   "metadata": {
    "collapsed": true
   },
   "outputs": [],
   "source": [
    "# Create custom model\n",
    "def conv2d(name, l_input, w, b):\n",
    "    return tf.nn.relu(tf.nn.bias_add(tf.nn.conv2d(l_input, w, strides=[1, 1, 1, 1], padding=\"SAME\"),b), name=name)\n",
    "\n",
    "def max_pool(name, l_input, k):\n",
    "    return tf.nn.max_pool(l_input, ksize=[1, k, k, 1], strides=[1, k, k, 1], padding=\"SAME\", name=name)\n"
   ]
  },
  {
   "cell_type": "code",
   "execution_count": 7,
   "metadata": {
    "collapsed": true
   },
   "outputs": [],
   "source": [
    "def dnn(_X, _weights, _biases, _dropout):\n",
    "    _X = tf.nn.dropout(_X, dropout)\n",
    "    d1 = tf.nn.relu(tf.nn.bias_add(tf.matmul(_X,_weights[\"wd1\"]), _biases[\"bd1\"]), name = \"d1\")\n",
    "    d2_X = tf.nn.dropout(d1, _dropout)\n",
    "    d2 = tf.nn.relu(tf.nn.bias_add(tf.matmul(d2_X, _weights[\"wd2\"]), _biases[\"bd2\"]), name = \"d2\")\n",
    "    \n",
    "    dout = tf.nn.dropout(d2, _dropout)\n",
    "    out = tf.matmul(dout, _weights[\"out\"]) + _biases[\"out\"]\n",
    "    \n",
    "    return out"
   ]
  },
  {
   "cell_type": "code",
   "execution_count": 10,
   "metadata": {
    "collapsed": true
   },
   "outputs": [],
   "source": [
    "#Store weights & biases\n",
    "weights = {\n",
    "    \"wd1\" : tf.Variable(tf.random_normal([784,600], stddev = 0.01)),\n",
    "    \"wd2\" : tf.Variable(tf.random_normal([600,480], stddev = 0.01)),\n",
    "    \"out\" : tf.Variable(tf.random_normal([480,10]))\n",
    "}\n",
    "\n",
    "biases = {\n",
    "    \"bd1\" : tf.Variable(tf.random_normal([600])),\n",
    "    \"bd2\" : tf.Variable(tf.random_normal([480])),\n",
    "    \"out\" : tf.Variable(tf.random_normal([10]))\n",
    "}"
   ]
  },
  {
   "cell_type": "code",
   "execution_count": 11,
   "metadata": {},
   "outputs": [],
   "source": [
    "#Construct the model\n",
    "prediction = dnn(x, weights, biases, keep_prob)"
   ]
  },
  {
   "cell_type": "code",
   "execution_count": 12,
   "metadata": {
    "collapsed": true
   },
   "outputs": [],
   "source": [
    "#Define loss and optimizer\n",
    "cost = tf.reduce_mean(tf.nn.softmax_cross_entropy_with_logits(logits = prediction, labels = y))\n",
    "optimizer = tf.train.AdamOptimizer(learning_rate = learning_rate).minimize(cost)"
   ]
  },
  {
   "cell_type": "code",
   "execution_count": 13,
   "metadata": {
    "collapsed": true
   },
   "outputs": [],
   "source": [
    "#Evaluate the model\n",
    "correct_prediction = tf.equal(tf.argmax(prediction, 1), tf.argmax(y, 1))\n",
    "accuracy = tf.reduce_mean(tf.cast(correct_prediction, tf.float32))"
   ]
  },
  {
   "cell_type": "code",
   "execution_count": 14,
   "metadata": {
    "collapsed": true
   },
   "outputs": [],
   "source": [
    "#Initializing the variables\n",
    "init = tf.global_variables_initializer()"
   ]
  },
  {
   "cell_type": "code",
   "execution_count": 15,
   "metadata": {},
   "outputs": [
    {
     "name": "stdout",
     "output_type": "stream",
     "text": [
      "Iter 1280, Minibatch Loss= 2.112351, Training Accuracy= 0.51562\n",
      "Iter 2560, Minibatch Loss= 0.944466, Training Accuracy= 0.71875\n",
      "Iter 3840, Minibatch Loss= 1.093474, Training Accuracy= 0.82812\n",
      "Iter 5120, Minibatch Loss= 0.558806, Training Accuracy= 0.85938\n",
      "Iter 6400, Minibatch Loss= 0.589973, Training Accuracy= 0.84375\n",
      "Iter 7680, Minibatch Loss= 0.593365, Training Accuracy= 0.82812\n",
      "Iter 8960, Minibatch Loss= 0.355986, Training Accuracy= 0.89062\n",
      "Iter 10240, Minibatch Loss= 0.374402, Training Accuracy= 0.89062\n",
      "Iter 11520, Minibatch Loss= 0.475308, Training Accuracy= 0.87500\n",
      "Iter 12800, Minibatch Loss= 0.433041, Training Accuracy= 0.85938\n",
      "Iter 14080, Minibatch Loss= 0.364004, Training Accuracy= 0.87500\n",
      "Iter 15360, Minibatch Loss= 0.141492, Training Accuracy= 0.95312\n",
      "Iter 16640, Minibatch Loss= 0.539061, Training Accuracy= 0.90625\n",
      "Iter 17920, Minibatch Loss= 0.617608, Training Accuracy= 0.87500\n",
      "Iter 19200, Minibatch Loss= 0.316130, Training Accuracy= 0.90625\n",
      "Iter 20480, Minibatch Loss= 0.275534, Training Accuracy= 0.93750\n",
      "Iter 21760, Minibatch Loss= 0.146945, Training Accuracy= 0.93750\n",
      "Iter 23040, Minibatch Loss= 0.256359, Training Accuracy= 0.90625\n",
      "Iter 24320, Minibatch Loss= 0.254406, Training Accuracy= 0.92188\n",
      "Iter 25600, Minibatch Loss= 0.112660, Training Accuracy= 0.93750\n",
      "Iter 26880, Minibatch Loss= 0.337806, Training Accuracy= 0.87500\n",
      "Iter 28160, Minibatch Loss= 0.439579, Training Accuracy= 0.85938\n",
      "Iter 29440, Minibatch Loss= 0.253929, Training Accuracy= 0.92188\n",
      "Iter 30720, Minibatch Loss= 0.153416, Training Accuracy= 0.95312\n",
      "Iter 32000, Minibatch Loss= 0.280166, Training Accuracy= 0.93750\n",
      "Iter 33280, Minibatch Loss= 0.266358, Training Accuracy= 0.92188\n",
      "Iter 34560, Minibatch Loss= 0.547089, Training Accuracy= 0.84375\n",
      "Iter 35840, Minibatch Loss= 0.179238, Training Accuracy= 0.92188\n",
      "Iter 37120, Minibatch Loss= 0.184991, Training Accuracy= 0.90625\n",
      "Iter 38400, Minibatch Loss= 0.182528, Training Accuracy= 0.93750\n",
      "Iter 39680, Minibatch Loss= 0.148316, Training Accuracy= 0.93750\n",
      "Iter 40960, Minibatch Loss= 0.161660, Training Accuracy= 0.95312\n",
      "Iter 42240, Minibatch Loss= 0.299748, Training Accuracy= 0.90625\n",
      "Iter 43520, Minibatch Loss= 0.149714, Training Accuracy= 0.95312\n",
      "Iter 44800, Minibatch Loss= 0.242649, Training Accuracy= 0.92188\n",
      "Iter 46080, Minibatch Loss= 0.214017, Training Accuracy= 0.93750\n",
      "Iter 47360, Minibatch Loss= 0.280404, Training Accuracy= 0.95312\n",
      "Iter 48640, Minibatch Loss= 0.219406, Training Accuracy= 0.90625\n",
      "Iter 49920, Minibatch Loss= 0.125963, Training Accuracy= 0.90625\n",
      "Iter 51200, Minibatch Loss= 0.174891, Training Accuracy= 0.95312\n",
      "Iter 52480, Minibatch Loss= 0.287231, Training Accuracy= 0.92188\n",
      "Iter 53760, Minibatch Loss= 0.103257, Training Accuracy= 0.95312\n",
      "Iter 55040, Minibatch Loss= 0.164238, Training Accuracy= 0.95312\n",
      "Iter 56320, Minibatch Loss= 0.288649, Training Accuracy= 0.89062\n",
      "Iter 57600, Minibatch Loss= 0.086558, Training Accuracy= 0.98438\n",
      "Iter 58880, Minibatch Loss= 0.158620, Training Accuracy= 0.93750\n",
      "Iter 60160, Minibatch Loss= 0.048675, Training Accuracy= 0.98438\n",
      "Iter 61440, Minibatch Loss= 0.183949, Training Accuracy= 0.96875\n",
      "Iter 62720, Minibatch Loss= 0.191315, Training Accuracy= 0.95312\n",
      "Iter 64000, Minibatch Loss= 0.212894, Training Accuracy= 0.93750\n",
      "Iter 65280, Minibatch Loss= 0.258892, Training Accuracy= 0.93750\n",
      "Iter 66560, Minibatch Loss= 0.144168, Training Accuracy= 0.96875\n",
      "Iter 67840, Minibatch Loss= 0.305492, Training Accuracy= 0.92188\n",
      "Iter 69120, Minibatch Loss= 0.040527, Training Accuracy= 0.98438\n",
      "Iter 70400, Minibatch Loss= 0.077889, Training Accuracy= 0.98438\n",
      "Iter 71680, Minibatch Loss= 0.092992, Training Accuracy= 0.92188\n",
      "Iter 72960, Minibatch Loss= 0.124604, Training Accuracy= 0.96875\n",
      "Iter 74240, Minibatch Loss= 0.068606, Training Accuracy= 0.96875\n",
      "Iter 75520, Minibatch Loss= 0.089669, Training Accuracy= 0.98438\n",
      "Iter 76800, Minibatch Loss= 0.142863, Training Accuracy= 0.98438\n",
      "Iter 78080, Minibatch Loss= 0.116069, Training Accuracy= 0.95312\n",
      "Iter 79360, Minibatch Loss= 0.045358, Training Accuracy= 0.96875\n",
      "Iter 80640, Minibatch Loss= 0.145358, Training Accuracy= 0.95312\n",
      "Iter 81920, Minibatch Loss= 0.105538, Training Accuracy= 0.96875\n",
      "Iter 83200, Minibatch Loss= 0.183325, Training Accuracy= 0.96875\n",
      "Iter 84480, Minibatch Loss= 0.173225, Training Accuracy= 0.93750\n",
      "Iter 85760, Minibatch Loss= 0.145234, Training Accuracy= 0.92188\n",
      "Iter 87040, Minibatch Loss= 0.112031, Training Accuracy= 0.98438\n",
      "Iter 88320, Minibatch Loss= 0.165407, Training Accuracy= 0.95312\n",
      "Iter 89600, Minibatch Loss= 0.181719, Training Accuracy= 0.93750\n",
      "Iter 90880, Minibatch Loss= 0.027021, Training Accuracy= 1.00000\n",
      "Iter 92160, Minibatch Loss= 0.163903, Training Accuracy= 0.92188\n",
      "Iter 93440, Minibatch Loss= 0.169744, Training Accuracy= 0.95312\n",
      "Iter 94720, Minibatch Loss= 0.159953, Training Accuracy= 0.95312\n",
      "Iter 96000, Minibatch Loss= 0.157303, Training Accuracy= 0.92188\n",
      "Iter 97280, Minibatch Loss= 0.212298, Training Accuracy= 0.95312\n",
      "Iter 98560, Minibatch Loss= 0.058611, Training Accuracy= 0.98438\n",
      "Iter 99840, Minibatch Loss= 0.284624, Training Accuracy= 0.95312\n",
      "Iter 101120, Minibatch Loss= 0.050197, Training Accuracy= 0.95312\n",
      "Iter 102400, Minibatch Loss= 0.191718, Training Accuracy= 0.93750\n",
      "Iter 103680, Minibatch Loss= 0.213965, Training Accuracy= 0.93750\n",
      "Iter 104960, Minibatch Loss= 0.090377, Training Accuracy= 0.96875\n",
      "Iter 106240, Minibatch Loss= 0.116356, Training Accuracy= 0.96875\n",
      "Iter 107520, Minibatch Loss= 0.139017, Training Accuracy= 0.92188\n",
      "Iter 108800, Minibatch Loss= 0.220154, Training Accuracy= 0.95312\n",
      "Iter 110080, Minibatch Loss= 0.104564, Training Accuracy= 0.98438\n",
      "Iter 111360, Minibatch Loss= 0.195711, Training Accuracy= 0.95312\n",
      "Iter 112640, Minibatch Loss= 0.082892, Training Accuracy= 0.93750\n",
      "Iter 113920, Minibatch Loss= 0.133319, Training Accuracy= 0.95312\n",
      "Iter 115200, Minibatch Loss= 0.034730, Training Accuracy= 1.00000\n",
      "Iter 116480, Minibatch Loss= 0.072113, Training Accuracy= 0.98438\n",
      "Iter 117760, Minibatch Loss= 0.118348, Training Accuracy= 0.95312\n",
      "Iter 119040, Minibatch Loss= 0.248312, Training Accuracy= 0.95312\n",
      "Iter 120320, Minibatch Loss= 0.054688, Training Accuracy= 0.98438\n",
      "Iter 121600, Minibatch Loss= 0.115051, Training Accuracy= 0.93750\n",
      "Iter 122880, Minibatch Loss= 0.227331, Training Accuracy= 0.92188\n",
      "Iter 124160, Minibatch Loss= 0.059693, Training Accuracy= 0.98438\n",
      "Iter 125440, Minibatch Loss= 0.084848, Training Accuracy= 0.98438\n",
      "Iter 126720, Minibatch Loss= 0.095204, Training Accuracy= 0.96875\n",
      "Iter 128000, Minibatch Loss= 0.120035, Training Accuracy= 0.96875\n",
      "Iter 129280, Minibatch Loss= 0.136727, Training Accuracy= 0.95312\n",
      "Iter 130560, Minibatch Loss= 0.303925, Training Accuracy= 0.92188\n",
      "Iter 131840, Minibatch Loss= 0.083379, Training Accuracy= 0.96875\n",
      "Iter 133120, Minibatch Loss= 0.153957, Training Accuracy= 0.95312\n",
      "Iter 134400, Minibatch Loss= 0.160299, Training Accuracy= 0.96875\n",
      "Iter 135680, Minibatch Loss= 0.191128, Training Accuracy= 0.93750\n",
      "Iter 136960, Minibatch Loss= 0.211068, Training Accuracy= 0.96875\n",
      "Iter 138240, Minibatch Loss= 0.142196, Training Accuracy= 0.95312\n",
      "Iter 139520, Minibatch Loss= 0.078599, Training Accuracy= 0.96875\n",
      "Iter 140800, Minibatch Loss= 0.076266, Training Accuracy= 0.96875\n",
      "Iter 142080, Minibatch Loss= 0.093741, Training Accuracy= 0.96875\n",
      "Iter 143360, Minibatch Loss= 0.060447, Training Accuracy= 1.00000\n",
      "Iter 144640, Minibatch Loss= 0.024282, Training Accuracy= 0.98438\n",
      "Iter 145920, Minibatch Loss= 0.034869, Training Accuracy= 0.98438\n",
      "Iter 147200, Minibatch Loss= 0.222422, Training Accuracy= 0.92188\n",
      "Iter 148480, Minibatch Loss= 0.130429, Training Accuracy= 0.96875\n",
      "Iter 149760, Minibatch Loss= 0.138942, Training Accuracy= 0.93750\n",
      "Iter 151040, Minibatch Loss= 0.028373, Training Accuracy= 0.98438\n",
      "Iter 152320, Minibatch Loss= 0.067176, Training Accuracy= 0.98438\n",
      "Iter 153600, Minibatch Loss= 0.152226, Training Accuracy= 0.95312\n",
      "Iter 154880, Minibatch Loss= 0.057986, Training Accuracy= 0.98438\n",
      "Iter 156160, Minibatch Loss= 0.058729, Training Accuracy= 0.95312\n",
      "Iter 157440, Minibatch Loss= 0.102526, Training Accuracy= 0.96875\n",
      "Iter 158720, Minibatch Loss= 0.035814, Training Accuracy= 1.00000\n",
      "Iter 160000, Minibatch Loss= 0.047156, Training Accuracy= 0.98438\n",
      "Iter 161280, Minibatch Loss= 0.053055, Training Accuracy= 0.98438\n"
     ]
    },
    {
     "name": "stdout",
     "output_type": "stream",
     "text": [
      "Iter 162560, Minibatch Loss= 0.169995, Training Accuracy= 0.93750\n",
      "Iter 163840, Minibatch Loss= 0.079353, Training Accuracy= 0.95312\n",
      "Iter 165120, Minibatch Loss= 0.206304, Training Accuracy= 0.96875\n",
      "Iter 166400, Minibatch Loss= 0.272410, Training Accuracy= 0.90625\n",
      "Iter 167680, Minibatch Loss= 0.081220, Training Accuracy= 0.98438\n",
      "Iter 168960, Minibatch Loss= 0.172516, Training Accuracy= 0.93750\n",
      "Iter 170240, Minibatch Loss= 0.053157, Training Accuracy= 0.96875\n",
      "Iter 171520, Minibatch Loss= 0.021406, Training Accuracy= 1.00000\n",
      "Iter 172800, Minibatch Loss= 0.038169, Training Accuracy= 0.98438\n",
      "Iter 174080, Minibatch Loss= 0.034660, Training Accuracy= 1.00000\n",
      "Iter 175360, Minibatch Loss= 0.057304, Training Accuracy= 0.98438\n",
      "Iter 176640, Minibatch Loss= 0.063920, Training Accuracy= 0.96875\n",
      "Iter 177920, Minibatch Loss= 0.036979, Training Accuracy= 0.98438\n",
      "Iter 179200, Minibatch Loss= 0.012705, Training Accuracy= 1.00000\n",
      "Iter 180480, Minibatch Loss= 0.239505, Training Accuracy= 0.95312\n",
      "Iter 181760, Minibatch Loss= 0.059284, Training Accuracy= 1.00000\n",
      "Iter 183040, Minibatch Loss= 0.116553, Training Accuracy= 0.95312\n",
      "Iter 184320, Minibatch Loss= 0.044694, Training Accuracy= 1.00000\n",
      "Iter 185600, Minibatch Loss= 0.144359, Training Accuracy= 0.98438\n",
      "Iter 186880, Minibatch Loss= 0.234440, Training Accuracy= 0.95312\n",
      "Iter 188160, Minibatch Loss= 0.159489, Training Accuracy= 0.95312\n",
      "Iter 189440, Minibatch Loss= 0.057147, Training Accuracy= 0.96875\n",
      "Iter 190720, Minibatch Loss= 0.020864, Training Accuracy= 0.98438\n",
      "Iter 192000, Minibatch Loss= 0.075416, Training Accuracy= 0.98438\n",
      "Iter 193280, Minibatch Loss= 0.238582, Training Accuracy= 0.95312\n",
      "Iter 194560, Minibatch Loss= 0.280202, Training Accuracy= 0.95312\n",
      "Iter 195840, Minibatch Loss= 0.113511, Training Accuracy= 0.95312\n",
      "Iter 197120, Minibatch Loss= 0.109901, Training Accuracy= 0.96875\n",
      "Iter 198400, Minibatch Loss= 0.199913, Training Accuracy= 0.95312\n",
      "Iter 199680, Minibatch Loss= 0.066399, Training Accuracy= 0.98438\n",
      "Optimization Finished\n",
      "Testing accuracy: "
     ]
    },
    {
     "ename": "RuntimeError",
     "evalue": "Attempted to use a closed Session.",
     "output_type": "error",
     "traceback": [
      "\u001b[0;31m---------------------------------------------------------------------------\u001b[0m",
      "\u001b[0;31mRuntimeError\u001b[0m                              Traceback (most recent call last)",
      "\u001b[0;32m<ipython-input-15-31a9a1cd4cff>\u001b[0m in \u001b[0;36m<module>\u001b[0;34m()\u001b[0m\n\u001b[1;32m     18\u001b[0m \u001b[0;32mprint\u001b[0m \u001b[0;34m\"Optimization Finished\"\u001b[0m\u001b[0;34m\u001b[0m\u001b[0m\n\u001b[1;32m     19\u001b[0m \u001b[0;31m#Calculate accuracy for the first 256 mnist images\u001b[0m\u001b[0;34m\u001b[0m\u001b[0;34m\u001b[0m\u001b[0m\n\u001b[0;32m---> 20\u001b[0;31m \u001b[0;32mprint\u001b[0m \u001b[0;34m\"Testing accuracy: \"\u001b[0m\u001b[0;34m,\u001b[0m \u001b[0msession\u001b[0m\u001b[0;34m.\u001b[0m\u001b[0mrun\u001b[0m\u001b[0;34m(\u001b[0m\u001b[0maccuracy\u001b[0m\u001b[0;34m,\u001b[0m \u001b[0mfeed_dict\u001b[0m \u001b[0;34m=\u001b[0m \u001b[0;34m{\u001b[0m\u001b[0mx\u001b[0m\u001b[0;34m:\u001b[0m \u001b[0mmnist\u001b[0m\u001b[0;34m.\u001b[0m\u001b[0mtest\u001b[0m\u001b[0;34m.\u001b[0m\u001b[0mimages\u001b[0m\u001b[0;34m[\u001b[0m\u001b[0;34m:\u001b[0m\u001b[0;36m256\u001b[0m\u001b[0;34m]\u001b[0m\u001b[0;34m,\u001b[0m \u001b[0my\u001b[0m\u001b[0;34m:\u001b[0m \u001b[0mmnist\u001b[0m\u001b[0;34m.\u001b[0m\u001b[0mtest\u001b[0m\u001b[0;34m.\u001b[0m\u001b[0mlabels\u001b[0m\u001b[0;34m[\u001b[0m\u001b[0;34m:\u001b[0m\u001b[0;36m256\u001b[0m\u001b[0;34m]\u001b[0m\u001b[0;34m,\u001b[0m \u001b[0mkeep_prob\u001b[0m\u001b[0;34m:\u001b[0m \u001b[0;36m1\u001b[0m\u001b[0;34m}\u001b[0m\u001b[0;34m)\u001b[0m\u001b[0;34m\u001b[0m\u001b[0m\n\u001b[0m",
      "\u001b[0;32m/home/wang/anaconda2/lib/python2.7/site-packages/tensorflow/python/client/session.pyc\u001b[0m in \u001b[0;36mrun\u001b[0;34m(self, fetches, feed_dict, options, run_metadata)\u001b[0m\n\u001b[1;32m    893\u001b[0m     \u001b[0;32mtry\u001b[0m\u001b[0;34m:\u001b[0m\u001b[0;34m\u001b[0m\u001b[0m\n\u001b[1;32m    894\u001b[0m       result = self._run(None, fetches, feed_dict, options_ptr,\n\u001b[0;32m--> 895\u001b[0;31m                          run_metadata_ptr)\n\u001b[0m\u001b[1;32m    896\u001b[0m       \u001b[0;32mif\u001b[0m \u001b[0mrun_metadata\u001b[0m\u001b[0;34m:\u001b[0m\u001b[0;34m\u001b[0m\u001b[0m\n\u001b[1;32m    897\u001b[0m         \u001b[0mproto_data\u001b[0m \u001b[0;34m=\u001b[0m \u001b[0mtf_session\u001b[0m\u001b[0;34m.\u001b[0m\u001b[0mTF_GetBuffer\u001b[0m\u001b[0;34m(\u001b[0m\u001b[0mrun_metadata_ptr\u001b[0m\u001b[0;34m)\u001b[0m\u001b[0;34m\u001b[0m\u001b[0m\n",
      "\u001b[0;32m/home/wang/anaconda2/lib/python2.7/site-packages/tensorflow/python/client/session.pyc\u001b[0m in \u001b[0;36m_run\u001b[0;34m(self, handle, fetches, feed_dict, options, run_metadata)\u001b[0m\n\u001b[1;32m   1049\u001b[0m     \u001b[0;31m# Check session.\u001b[0m\u001b[0;34m\u001b[0m\u001b[0;34m\u001b[0m\u001b[0m\n\u001b[1;32m   1050\u001b[0m     \u001b[0;32mif\u001b[0m \u001b[0mself\u001b[0m\u001b[0;34m.\u001b[0m\u001b[0m_closed\u001b[0m\u001b[0;34m:\u001b[0m\u001b[0;34m\u001b[0m\u001b[0m\n\u001b[0;32m-> 1051\u001b[0;31m       \u001b[0;32mraise\u001b[0m \u001b[0mRuntimeError\u001b[0m\u001b[0;34m(\u001b[0m\u001b[0;34m'Attempted to use a closed Session.'\u001b[0m\u001b[0;34m)\u001b[0m\u001b[0;34m\u001b[0m\u001b[0m\n\u001b[0m\u001b[1;32m   1052\u001b[0m     \u001b[0;32mif\u001b[0m \u001b[0mself\u001b[0m\u001b[0;34m.\u001b[0m\u001b[0mgraph\u001b[0m\u001b[0;34m.\u001b[0m\u001b[0mversion\u001b[0m \u001b[0;34m==\u001b[0m \u001b[0;36m0\u001b[0m\u001b[0;34m:\u001b[0m\u001b[0;34m\u001b[0m\u001b[0m\n\u001b[1;32m   1053\u001b[0m       raise RuntimeError('The Session graph is empty.  Add operations to the '\n",
      "\u001b[0;31mRuntimeError\u001b[0m: Attempted to use a closed Session."
     ]
    }
   ],
   "source": [
    "#Launch the graph\n",
    "with tf.Session() as session:\n",
    "    session.run(init)\n",
    "    \n",
    "    step = 1\n",
    "    while step * batch_size < training_iters:\n",
    "        batch_xs, batch_ys = mnist.train.next_batch(batch_size)\n",
    "        #Fit training\n",
    "        session.run(optimizer, feed_dict = {x: batch_xs, y: batch_ys, keep_prob: dropout})\n",
    "        if step % display_step == 0:\n",
    "            #Calculate the accuracy and loss\n",
    "            acc = session.run(accuracy, feed_dict = {x: batch_xs, y: batch_ys, keep_prob: 1})\n",
    "            loss = session.run(cost, feed_dict = {x: batch_xs, y: batch_ys, keep_prob: 1})\n",
    "            \n",
    "            print \"Iter \" + str(step*batch_size) + \", Minibatch Loss= \" + \"{:.6f}\".format(loss) + \", Training Accuracy= \" + \"{:.5f}\".format(acc)\n",
    "        step += 1\n",
    "\n",
    "print \"Optimization Finished\"\n",
    "#Calculate accuracy for the first 256 mnist images\n",
    "print \"Testing accuracy: \", session.run(accuracy, feed_dict = {x: mnist.test.images[:256], y: mnist.test.labels[:256], keep_prob: 1})"
   ]
  },
  {
   "cell_type": "code",
   "execution_count": null,
   "metadata": {
    "collapsed": true
   },
   "outputs": [],
   "source": []
  }
 ],
 "metadata": {
  "kernelspec": {
   "display_name": "Python 2",
   "language": "python",
   "name": "python2"
  },
  "language_info": {
   "codemirror_mode": {
    "name": "ipython",
    "version": 2
   },
   "file_extension": ".py",
   "mimetype": "text/x-python",
   "name": "python",
   "nbconvert_exporter": "python",
   "pygments_lexer": "ipython2",
   "version": "2.7.13"
  }
 },
 "nbformat": 4,
 "nbformat_minor": 2
}
