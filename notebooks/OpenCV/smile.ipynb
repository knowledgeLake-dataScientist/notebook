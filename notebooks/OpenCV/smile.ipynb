{
 "cells": [
  {
   "cell_type": "code",
   "execution_count": 1,
   "metadata": {
    "collapsed": true
   },
   "outputs": [],
   "source": [
    "import cv2\n",
    "import numpy as np\n",
    "import sys\n"
   ]
  },
  {
   "cell_type": "code",
   "execution_count": 2,
   "metadata": {
    "collapsed": true
   },
   "outputs": [],
   "source": [
    "facePath = \"haarcascade_frontalface_default.xml\"\n",
    "smilePath = \"haarcascade_smile.xml\""
   ]
  },
  {
   "cell_type": "code",
   "execution_count": 3,
   "metadata": {
    "collapsed": true
   },
   "outputs": [],
   "source": [
    "faceCascade = cv2.CascadeClassifier(facePath)\n",
    "smileCascade = cv2.CascadeClassifier(smilePath)\n"
   ]
  },
  {
   "cell_type": "code",
   "execution_count": 4,
   "metadata": {
    "collapsed": true
   },
   "outputs": [],
   "source": [
    "image = cv2.imread('faces-of-american.jpg')"
   ]
  },
  {
   "cell_type": "code",
   "execution_count": 5,
   "metadata": {},
   "outputs": [
    {
     "data": {
      "text/plain": [
       "255"
      ]
     },
     "execution_count": 5,
     "metadata": {},
     "output_type": "execute_result"
    }
   ],
   "source": [
    "cv2.imshow(\"Raw Faces!\",image)\n",
    "cv2.waitKey(0)"
   ]
  },
  {
   "cell_type": "code",
   "execution_count": 6,
   "metadata": {
    "collapsed": true
   },
   "outputs": [],
   "source": [
    "gray = cv2.cvtColor(image,cv2.COLOR_BGR2GRAY)"
   ]
  },
  {
   "cell_type": "code",
   "execution_count": 7,
   "metadata": {
    "collapsed": true
   },
   "outputs": [],
   "source": [
    "faces = faceCascade.detectMultiScale(\n",
    "        gray,\n",
    "        scaleFactor= 1.15,\n",
    "        minNeighbors=5,\n",
    "        minSize=(5, 5),\n",
    "        flags=cv2.CASCADE_SCALE_IMAGE\n",
    "    )"
   ]
  },
  {
   "cell_type": "code",
   "execution_count": 8,
   "metadata": {},
   "outputs": [
    {
     "data": {
      "text/plain": [
       "array([[103, 139,  63,  63],\n",
       "       [762,   8,  83,  83],\n",
       "       [203,  24,  76,  76],\n",
       "       [327,  22,  76,  76],\n",
       "       [438,  19,  82,  82],\n",
       "       [215, 134,  77,  77],\n",
       "       [126,  25,  70,  70],\n",
       "       [528,  27,  75,  75],\n",
       "       [863,  24,  76,  76],\n",
       "       [749, 132,  74,  74],\n",
       "       [971, 136,  71,  71],\n",
       "       [442, 444,  81,  81],\n",
       "       [534, 450,  80,  80],\n",
       "       [345, 452,  78,  78],\n",
       "       [  3, 137,  64,  64],\n",
       "       [655, 455,  74,  74],\n",
       "       [331, 132,  73,  73],\n",
       "       [538, 133,  72,  72],\n",
       "       [652, 131,  75,  75],\n",
       "       [868, 455,  74,  74],\n",
       "       [963, 455,  70,  70],\n",
       "       [213, 457,  75,  75],\n",
       "       [751, 460,  67,  67],\n",
       "       [119, 458,  75,  75],\n",
       "       [984,  25,  64,  64],\n",
       "       [645,  32,  64,  64],\n",
       "       [ 14, 240,  70,  70],\n",
       "       [326, 235,  85,  85],\n",
       "       [646, 241,  74,  74],\n",
       "       [861, 238,  77,  77],\n",
       "       [222, 235,  81,  81],\n",
       "       [432, 242,  74,  74],\n",
       "       [536, 241,  79,  79],\n",
       "       [776, 242,  70,  70],\n",
       "       [962, 241,  70,  70],\n",
       "       [125, 246,  69,  69],\n",
       "       [  5, 467,  68,  68],\n",
       "       [866, 126,  81,  81],\n",
       "       [322, 349,  73,  73],\n",
       "       [427, 350,  70,  70],\n",
       "       [208, 354,  63,  63],\n",
       "       [549, 347,  74,  74],\n",
       "       [ 10, 352,  72,  72],\n",
       "       [121, 354,  67,  67],\n",
       "       [968, 353,  72,  72],\n",
       "       [644, 347,  80,  80],\n",
       "       [752, 345,  77,  77],\n",
       "       [857, 347,  83,  83]], dtype=int32)"
      ]
     },
     "execution_count": 8,
     "metadata": {},
     "output_type": "execute_result"
    }
   ],
   "source": [
    "faces"
   ]
  },
  {
   "cell_type": "code",
   "execution_count": 9,
   "metadata": {
    "collapsed": true
   },
   "outputs": [],
   "source": [
    "for(x,y,w,h) in faces:\n",
    "    # cv2.rectangle(image,(x,y),(x+w,y+w),(0,255,0),2)\n",
    "    cv2.rectangle(image, (x, y), (x+w, y+h), (0, 255, 0), 2)\n",
    "    roi_gray = gray[y:y+h, x:x+w]\n",
    "    roi_color = image[y:y+h, x:x+w]"
   ]
  },
  {
   "cell_type": "code",
   "execution_count": 10,
   "metadata": {},
   "outputs": [
    {
     "data": {
      "text/plain": [
       "255"
      ]
     },
     "execution_count": 10,
     "metadata": {},
     "output_type": "execute_result"
    }
   ],
   "source": [
    "cv2.imshow(\"Find Faces!\",image)\n",
    "cv2.waitKey(0)"
   ]
  },
  {
   "cell_type": "code",
   "execution_count": 11,
   "metadata": {
    "collapsed": true
   },
   "outputs": [],
   "source": [
    "smile = smileCascade.detectMultiScale(\n",
    "            roi_gray,\n",
    "            scaleFactor= 1.15,\n",
    "            minNeighbors=5,\n",
    "            minSize=(2, 2),\n",
    "            flags=cv2.CASCADE_SCALE_IMAGE\n",
    "            )"
   ]
  },
  {
   "cell_type": "code",
   "execution_count": 12,
   "metadata": {},
   "outputs": [
    {
     "name": "stdout",
     "output_type": "stream",
     "text": [
      "Found 1 smiles!\n"
     ]
    }
   ],
   "source": [
    "print (\"Found\", len(smile), \"smiles!\")"
   ]
  },
  {
   "cell_type": "code",
   "execution_count": 13,
   "metadata": {
    "collapsed": true
   },
   "outputs": [],
   "source": [
    "for (x, y, w, h) in smile:\n",
    "            \n",
    "            cv2.rectangle(roi_color, (x, y), (x+w, y+h), (255, 0, 0), 1)"
   ]
  },
  {
   "cell_type": "code",
   "execution_count": 14,
   "metadata": {},
   "outputs": [
    {
     "data": {
      "text/plain": [
       "255"
      ]
     },
     "execution_count": 14,
     "metadata": {},
     "output_type": "execute_result"
    }
   ],
   "source": [
    "cv2.imshow(\"Find Faces!\",image)\n",
    "cv2.waitKey(0)"
   ]
  },
  {
   "cell_type": "code",
   "execution_count": null,
   "metadata": {
    "collapsed": true
   },
   "outputs": [],
   "source": []
  }
 ],
 "metadata": {
  "kernelspec": {
   "display_name": "Python 3",
   "language": "python",
   "name": "python3"
  },
  "language_info": {
   "codemirror_mode": {
    "name": "ipython",
    "version": 3
   },
   "file_extension": ".py",
   "mimetype": "text/x-python",
   "name": "python",
   "nbconvert_exporter": "python",
   "pygments_lexer": "ipython3",
   "version": "3.6.1"
  }
 },
 "nbformat": 4,
 "nbformat_minor": 2
}
