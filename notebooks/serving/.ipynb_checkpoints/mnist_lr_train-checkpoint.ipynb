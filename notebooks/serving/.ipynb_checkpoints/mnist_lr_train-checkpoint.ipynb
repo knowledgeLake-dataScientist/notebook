{
 "cells": [
  {
   "cell_type": "code",
   "execution_count": 1,
   "metadata": {
    "collapsed": true
   },
   "outputs": [],
   "source": [
    "import os\n",
    "import sys \n",
    "\n",
    "# This is a placeholder for a Google-internal import.\n",
    "\n",
    "import tensorflow as tf\n",
    "\n",
    "import mnist_input_data\n"
   ]
  },
  {
   "cell_type": "code",
   "execution_count": 3,
   "metadata": {},
   "outputs": [
    {
     "name": "stdout",
     "output_type": "stream",
     "text": [
      "Extracting /data/mnist/train-images-idx3-ubyte.gz\n",
      "Extracting /data/mnist/train-labels-idx1-ubyte.gz\n",
      "Extracting /data/mnist/t10k-images-idx3-ubyte.gz\n",
      "Extracting /data/mnist/t10k-labels-idx1-ubyte.gz\n"
     ]
    }
   ],
   "source": [
    "mnist = mnist_input_data.read_data_sets(\"/data/mnist\", one_hot=True)"
   ]
  },
  {
   "cell_type": "code",
   "execution_count": 35,
   "metadata": {
    "collapsed": true
   },
   "outputs": [],
   "source": [
    "def main(_):\n",
    "  print 'Training model...'\n",
    "  training_iteration = 101\n",
    "  sess = tf.InteractiveSession()\n",
    "  serialized_tf_example = tf.placeholder(tf.string, name='tf_example')\n",
    "  feature_configs = {'x': tf.FixedLenFeature(shape=[784], dtype=tf.float32),}\n",
    "  tf_example = tf.parse_example(serialized_tf_example, feature_configs)\n",
    "  x = tf.identity(tf_example['x'], name='x')  # use tf.identity() to assign name\n",
    "  y_ = tf.placeholder('float', shape=[None, 10])\n",
    "  w = tf.Variable(tf.zeros([784, 10]))\n",
    "  b = tf.Variable(tf.zeros([10]))\n",
    "  saver = tf.train.Saver( )\n",
    "  sess.run(tf.global_variables_initializer())\n",
    "  y = tf.nn.softmax(tf.matmul(x, w) + b, name='y')\n",
    "  cross_entropy = -tf.reduce_sum(y_ * tf.log(y))\n",
    "  train_step = tf.train.GradientDescentOptimizer(0.01).minimize(cross_entropy)\n",
    "  values, indices = tf.nn.top_k(y, 10)\n",
    "  table = tf.contrib.lookup.index_to_string_table_from_tensor(\n",
    "      tf.constant([str(i) for i in xrange(10)]))\n",
    "  prediction_classes = table.lookup(tf.to_int64(indices))\n",
    "  for _ in range(training_iteration):\n",
    "    batch = mnist.train.next_batch(50)\n",
    "    train_step.run(feed_dict={x: batch[0], y_: batch[1]})\n",
    "  correct_prediction = tf.equal(tf.argmax(y, 1), tf.argmax(y_, 1))\n",
    "  accuracy = tf.reduce_mean(tf.cast(correct_prediction, 'float'))\n",
    "  print 'training accuracy %g' % sess.run(\n",
    "      accuracy, feed_dict={x: mnist.test.images,\n",
    "                           y_: mnist.test.labels})\n",
    "  model_dir=\"/tmp/mnist\"\n",
    "  model_name = \"mnist_model1\"\n",
    "  if not os.path.exists(model_dir):\n",
    "    os.mkdir(model_dir)\n",
    "  saver.save(sess,os.path.join(model_dir, model_name))\n",
    "  print 'Done training!'\n",
    "\n"
   ]
  },
  {
   "cell_type": "code",
   "execution_count": 37,
   "metadata": {},
   "outputs": [
    {
     "name": "stdout",
     "output_type": "stream",
     "text": [
      "Training model...\n",
      "training accuracy 0.8933\n",
      "Done training!\n",
      "Done training!\n"
     ]
    },
    {
     "ename": "SystemExit",
     "evalue": "",
     "output_type": "error",
     "traceback": [
      "An exception has occurred, use %tb to see the full traceback.\n",
      "\u001b[0;31mSystemExit\u001b[0m\n"
     ]
    }
   ],
   "source": [
    "\n",
    "if __name__ == '__main__':\n",
    "  tf.app.run()\n",
    "  "
   ]
  },
  {
   "cell_type": "code",
   "execution_count": null,
   "metadata": {
    "collapsed": true
   },
   "outputs": [],
   "source": []
  },
  {
   "cell_type": "code",
   "execution_count": null,
   "metadata": {
    "collapsed": true
   },
   "outputs": [],
   "source": []
  }
 ],
 "metadata": {
  "kernelspec": {
   "display_name": "Python 2",
   "language": "python",
   "name": "python2"
  },
  "language_info": {
   "codemirror_mode": {
    "name": "ipython",
    "version": 2
   },
   "file_extension": ".py",
   "mimetype": "text/x-python",
   "name": "python",
   "nbconvert_exporter": "python",
   "pygments_lexer": "ipython2",
   "version": "2.7.13"
  }
 },
 "nbformat": 4,
 "nbformat_minor": 2
}
