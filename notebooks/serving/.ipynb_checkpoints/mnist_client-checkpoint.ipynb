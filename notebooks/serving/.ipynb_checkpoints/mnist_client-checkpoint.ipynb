{
 "cells": [
  {
   "cell_type": "code",
   "execution_count": 5,
   "metadata": {
    "collapsed": true
   },
   "outputs": [],
   "source": [
    "#!/usr/bin/env python2.7"
   ]
  },
  {
   "cell_type": "code",
   "execution_count": 17,
   "metadata": {},
   "outputs": [
    {
     "name": "stdout",
     "output_type": "stream",
     "text": [
      "['', '/usr/hdp/2.6.1.0-129/spark2/python/lib/pyspark.zip', '/usr/hdp/2.6.1.0-129/spark2/python/lib/py4j-0.10.4-src.zip', '/data/1xiu/project/pythonProject/serving', '/data/1xiu/anaconda2/lib/python27.zip', '/data/1xiu/anaconda2/lib/python2.7', '/data/1xiu/anaconda2/lib/python2.7/plat-linux2', '/data/1xiu/anaconda2/lib/python2.7/lib-tk', '/data/1xiu/anaconda2/lib/python2.7/lib-old', '/data/1xiu/anaconda2/lib/python2.7/lib-dynload', '/data/1xiu/anaconda2/lib/python2.7/site-packages', '/data/1xiu/anaconda2/lib/python2.7/site-packages/Sphinx-1.5.6-py2.7.egg', '/data/1xiu/anaconda2/lib/python2.7/site-packages/setuptools-27.2.0-py2.7.egg', '/data/1xiu/anaconda2/lib/python2.7/site-packages/IPython/extensions', '/root/.ipython', '/data/1xiu/project/google/serving-com/tensorflow_serving', '/data/1xiu/project/google/serving-com/tensorflow_serving', '/data/1xiu/project/google/serving-com/tensorflow_serving/apis', '/data/1xiu/project/google/serving-com/tensorflow_serving/apis', '/data/1xiu/project/google/serving-com/tensorflow_serving/apis', '/data/1xiu/project/google/serving-com/tensorflow_serving/apis', '/data/1xiu/project/google/serving-com/tensorflow_serving/']\n"
     ]
    },
    {
     "ename": "ImportError",
     "evalue": "No module named tensorflow_serving.apis",
     "output_type": "error",
     "traceback": [
      "\u001b[0;31m---------------------------------------------------------------------------\u001b[0m",
      "\u001b[0;31mImportError\u001b[0m                               Traceback (most recent call last)",
      "\u001b[0;32m<ipython-input-17-8307f346a888>\u001b[0m in \u001b[0;36m<module>\u001b[0;34m()\u001b[0m\n\u001b[1;32m     13\u001b[0m \u001b[0;32mimport\u001b[0m \u001b[0mtensorflow\u001b[0m \u001b[0;32mas\u001b[0m \u001b[0mtf\u001b[0m\u001b[0;34m\u001b[0m\u001b[0m\n\u001b[1;32m     14\u001b[0m \u001b[0;34m\u001b[0m\u001b[0m\n\u001b[0;32m---> 15\u001b[0;31m \u001b[0;32mfrom\u001b[0m \u001b[0mtensorflow_serving\u001b[0m\u001b[0;34m.\u001b[0m\u001b[0mapis\u001b[0m \u001b[0;32mimport\u001b[0m \u001b[0mpredict_pb2\u001b[0m\u001b[0;34m\u001b[0m\u001b[0m\n\u001b[0m\u001b[1;32m     16\u001b[0m \u001b[0;32mfrom\u001b[0m \u001b[0mtensorflow_serving\u001b[0m\u001b[0;34m.\u001b[0m\u001b[0mapis\u001b[0m \u001b[0;32mimport\u001b[0m \u001b[0mprediction_service_pb2\u001b[0m\u001b[0;34m\u001b[0m\u001b[0m\n\u001b[1;32m     17\u001b[0m \u001b[0;34m\u001b[0m\u001b[0m\n",
      "\u001b[0;31mImportError\u001b[0m: No module named tensorflow_serving.apis"
     ]
    }
   ],
   "source": [
    "from __future__ import print_function\n",
    "\n",
    "import sys \n",
    "\n",
    "#sys.path.append('/data/1xiu/project/google/serving-com/tensorflow_serving/') \n",
    "#print(sys.path)  #打印已有路径\n",
    "import threading\n",
    "\n",
    "# This is a placeholder for a Google-internal import.\n",
    "\n",
    "from grpc.beta import implementations\n",
    "import numpy\n",
    "import tensorflow as tf\n",
    "\n",
    "from tensorflow_serving.apis import predict_pb2\n",
    "from tensorflow_serving.apis import prediction_service_pb2\n",
    "\n",
    "#from apis import predict_pb2\n",
    "#from apis import prediction_service_pb2\n",
    "\n",
    "\n",
    "import mnist_input_data\n"
   ]
  },
  {
   "cell_type": "code",
   "execution_count": null,
   "metadata": {
    "collapsed": true
   },
   "outputs": [],
   "source": [
    "#mnist_input_data = input_data.read_data_sets('/data/mnist', one_hot=True)"
   ]
  },
  {
   "cell_type": "code",
   "execution_count": null,
   "metadata": {
    "collapsed": true
   },
   "outputs": [],
   "source": [
    "class _ResultCounter(object):                                                      \n",
    "  \"\"\"Counter for the prediction results.\"\"\"                                        \n",
    "\n",
    "  def __init__(self, num_tests, concurrency):\n",
    "    self._num_tests = num_tests\n",
    "    self._concurrency = concurrency                                                \n",
    "    self._error = 0\n",
    "    self._done = 0\n",
    "    self._active = 0\n",
    "    self._condition = threading.Condition()                                        \n",
    "    \n",
    "  def inc_error(self):                                                             \n",
    "    with self._condition:                                                          \n",
    "      self._error += 1                                                             \n",
    "\n",
    "  def inc_done(self):\n",
    "    with self._condition:\n",
    "      self._done += 1                                                              \n",
    "      self._condition.notify()                                                     \n",
    "\n",
    "  def dec_active(self):\n",
    "    with self._condition: \n",
    "      self._active -= 1\n",
    "      self._condition.notify()\n",
    "    \n",
    "  def get_error_rate(self):                                                        \n",
    "    with self._condition:\n",
    "      while self._done != self._num_tests:                                         \n",
    "        self._condition.wait()\n",
    "      return self._error / float(self._num_tests)                                  \n",
    "    \n",
    "  def throttle(self):\n",
    "    with self._condition:\n",
    "      while self._active == self._concurrency:\n",
    "        self._condition.wait()\n",
    "      self._active += 1\n",
    "\n",
    "\n",
    "\n"
   ]
  },
  {
   "cell_type": "code",
   "execution_count": null,
   "metadata": {
    "collapsed": true
   },
   "outputs": [],
   "source": [
    "def _create_rpc_callback(label, result_counter):\n",
    "  \"\"\"Creates RPC callback function.\n",
    "\n",
    "  Args:\n",
    "    label: The correct label for the predicted example.\n",
    "    result_counter: Counter for the prediction result.\n",
    "  Returns:\n",
    "    The callback function.\n",
    "  \"\"\"\n",
    "  def _callback(result_future):\n",
    "    \"\"\"Callback function.\n",
    "\n",
    "    Calculates the statistics for the prediction result.\n",
    "\n",
    "    Args:\n",
    "      result_future: Result future of the RPC.\n",
    "    \"\"\"\n",
    "    exception = result_future.exception()\n",
    "    if exception:\n",
    "      result_counter.inc_error()\n",
    "      print(exception)\n",
    "    else:\n",
    "      sys.stdout.write('.')\n",
    "      sys.stdout.flush()\n",
    "      response = numpy.array(\n",
    "          result_future.result().outputs['scores'].float_val)\n",
    "      prediction = numpy.argmax(response)\n",
    "      if label != prediction:\n",
    "        result_counter.inc_error()\n",
    "    result_counter.inc_done()\n",
    "    result_counter.dec_active()\n",
    "  return _callback\n"
   ]
  },
  {
   "cell_type": "code",
   "execution_count": 3,
   "metadata": {
    "collapsed": true
   },
   "outputs": [],
   "source": [
    "def do_inference(hostport, work_dir, concurrency, num_tests):\n",
    "  \"\"\"Tests PredictionService with concurrent requests.\n",
    "\n",
    "  Args:\n",
    "    hostport: Host:port address of the PredictionService.\n",
    "    work_dir: The full path of working directory for test data set.\n",
    "    concurrency: Maximum number of concurrent requests.\n",
    "    num_tests: Number of test images to use.\n",
    "\n",
    "  Returns:\n",
    "    The classification error rate.\n",
    "\n",
    "  Raises:\n",
    "    IOError: An error occurred processing test data set.\n",
    "  \"\"\"\n",
    "  test_data_set = mnist_input_data.read_data_sets(work_dir).test\n",
    "  host, port = hostport.split(':')\n",
    "  channel = implementations.insecure_channel(host, int(port))\n",
    "  stub = prediction_service_pb2.beta_create_PredictionService_stub(channel)\n",
    "  result_counter = _ResultCounter(num_tests, concurrency)\n",
    "  for _ in range(num_tests):\n",
    "    request = predict_pb2.PredictRequest()\n",
    "    request.model_spec.name = 'mnist'\n",
    "    request.model_spec.signature_name = 'predict_images'\n",
    "    image, label = test_data_set.next_batch(1)\n",
    "    #print(\"label\",label)\n",
    "    #print(\"image\", image[0].size)\n",
    "    request.inputs['images'].CopyFrom(\n",
    "        tf.contrib.util.make_tensor_proto(image[0], shape=[1, image[0].size]))\n",
    "    result_counter.throttle()\n",
    "    result_future = stub.Predict.future(request, 5.0)  # 5 seconds\n",
    "    result_future.add_done_callback(\n",
    "        _create_rpc_callback(label[0], result_counter))\n",
    "  return result_counter.get_error_rate()\n"
   ]
  },
  {
   "cell_type": "code",
   "execution_count": 4,
   "metadata": {},
   "outputs": [
    {
     "ename": "NameError",
     "evalue": "global name 'mnist_input_data' is not defined",
     "output_type": "error",
     "traceback": [
      "\u001b[0;31m---------------------------------------------------------------------------\u001b[0m",
      "\u001b[0;31mNameError\u001b[0m                                 Traceback (most recent call last)",
      "\u001b[0;32m<ipython-input-4-268c5038e7eb>\u001b[0m in \u001b[0;36m<module>\u001b[0;34m()\u001b[0m\n\u001b[1;32m     13\u001b[0m \u001b[0;34m\u001b[0m\u001b[0m\n\u001b[1;32m     14\u001b[0m \u001b[0;32mif\u001b[0m \u001b[0m__name__\u001b[0m \u001b[0;34m==\u001b[0m \u001b[0;34m'__main__'\u001b[0m\u001b[0;34m:\u001b[0m\u001b[0;34m\u001b[0m\u001b[0m\n\u001b[0;32m---> 15\u001b[0;31m   \u001b[0mtf\u001b[0m\u001b[0;34m.\u001b[0m\u001b[0mapp\u001b[0m\u001b[0;34m.\u001b[0m\u001b[0mrun\u001b[0m\u001b[0;34m(\u001b[0m\u001b[0;34m)\u001b[0m\u001b[0;34m\u001b[0m\u001b[0m\n\u001b[0m\u001b[1;32m     16\u001b[0m \u001b[0;34m\u001b[0m\u001b[0m\n",
      "\u001b[0;32m/data/1xiu/anaconda2/lib/python2.7/site-packages/tensorflow/python/platform/app.pyc\u001b[0m in \u001b[0;36mrun\u001b[0;34m(main, argv)\u001b[0m\n\u001b[1;32m     46\u001b[0m   \u001b[0;31m# Call the main function, passing through any arguments\u001b[0m\u001b[0;34m\u001b[0m\u001b[0;34m\u001b[0m\u001b[0m\n\u001b[1;32m     47\u001b[0m   \u001b[0;31m# to the final program.\u001b[0m\u001b[0;34m\u001b[0m\u001b[0;34m\u001b[0m\u001b[0m\n\u001b[0;32m---> 48\u001b[0;31m   \u001b[0m_sys\u001b[0m\u001b[0;34m.\u001b[0m\u001b[0mexit\u001b[0m\u001b[0;34m(\u001b[0m\u001b[0mmain\u001b[0m\u001b[0;34m(\u001b[0m\u001b[0m_sys\u001b[0m\u001b[0;34m.\u001b[0m\u001b[0margv\u001b[0m\u001b[0;34m[\u001b[0m\u001b[0;34m:\u001b[0m\u001b[0;36m1\u001b[0m\u001b[0;34m]\u001b[0m \u001b[0;34m+\u001b[0m \u001b[0mflags_passthrough\u001b[0m\u001b[0;34m)\u001b[0m\u001b[0;34m)\u001b[0m\u001b[0;34m\u001b[0m\u001b[0m\n\u001b[0m\u001b[1;32m     49\u001b[0m \u001b[0;34m\u001b[0m\u001b[0m\n\u001b[1;32m     50\u001b[0m \u001b[0;34m\u001b[0m\u001b[0m\n",
      "\u001b[0;32m<ipython-input-4-268c5038e7eb>\u001b[0m in \u001b[0;36mmain\u001b[0;34m(_)\u001b[0m\n\u001b[1;32m      8\u001b[0m     \u001b[0;32mreturn\u001b[0m\u001b[0;34m\u001b[0m\u001b[0m\n\u001b[1;32m      9\u001b[0m   error_rate = do_inference(server, work_dir,\n\u001b[0;32m---> 10\u001b[0;31m                             concurrency, num_tests)\n\u001b[0m\u001b[1;32m     11\u001b[0m   \u001b[0;32mprint\u001b[0m\u001b[0;34m(\u001b[0m\u001b[0;34m'\\nInference error rate: %s%%'\u001b[0m \u001b[0;34m%\u001b[0m \u001b[0;34m(\u001b[0m\u001b[0merror_rate\u001b[0m \u001b[0;34m*\u001b[0m \u001b[0;36m100\u001b[0m\u001b[0;34m)\u001b[0m\u001b[0;34m)\u001b[0m\u001b[0;34m\u001b[0m\u001b[0m\n\u001b[1;32m     12\u001b[0m \u001b[0;34m\u001b[0m\u001b[0m\n",
      "\u001b[0;32m<ipython-input-3-b1b75977c1db>\u001b[0m in \u001b[0;36mdo_inference\u001b[0;34m(hostport, work_dir, concurrency, num_tests)\u001b[0m\n\u001b[1;32m     14\u001b[0m     \u001b[0mIOError\u001b[0m\u001b[0;34m:\u001b[0m \u001b[0mAn\u001b[0m \u001b[0merror\u001b[0m \u001b[0moccurred\u001b[0m \u001b[0mprocessing\u001b[0m \u001b[0mtest\u001b[0m \u001b[0mdata\u001b[0m \u001b[0mset\u001b[0m\u001b[0;34m.\u001b[0m\u001b[0;34m\u001b[0m\u001b[0m\n\u001b[1;32m     15\u001b[0m   \"\"\"\n\u001b[0;32m---> 16\u001b[0;31m   \u001b[0mtest_data_set\u001b[0m \u001b[0;34m=\u001b[0m \u001b[0mmnist_input_data\u001b[0m\u001b[0;34m.\u001b[0m\u001b[0mread_data_sets\u001b[0m\u001b[0;34m(\u001b[0m\u001b[0mwork_dir\u001b[0m\u001b[0;34m)\u001b[0m\u001b[0;34m.\u001b[0m\u001b[0mtest\u001b[0m\u001b[0;34m\u001b[0m\u001b[0m\n\u001b[0m\u001b[1;32m     17\u001b[0m   \u001b[0mhost\u001b[0m\u001b[0;34m,\u001b[0m \u001b[0mport\u001b[0m \u001b[0;34m=\u001b[0m \u001b[0mhostport\u001b[0m\u001b[0;34m.\u001b[0m\u001b[0msplit\u001b[0m\u001b[0;34m(\u001b[0m\u001b[0;34m':'\u001b[0m\u001b[0;34m)\u001b[0m\u001b[0;34m\u001b[0m\u001b[0m\n\u001b[1;32m     18\u001b[0m   \u001b[0mchannel\u001b[0m \u001b[0;34m=\u001b[0m \u001b[0mimplementations\u001b[0m\u001b[0;34m.\u001b[0m\u001b[0minsecure_channel\u001b[0m\u001b[0;34m(\u001b[0m\u001b[0mhost\u001b[0m\u001b[0;34m,\u001b[0m \u001b[0mint\u001b[0m\u001b[0;34m(\u001b[0m\u001b[0mport\u001b[0m\u001b[0;34m)\u001b[0m\u001b[0;34m)\u001b[0m\u001b[0;34m\u001b[0m\u001b[0m\n",
      "\u001b[0;31mNameError\u001b[0m: global name 'mnist_input_data' is not defined"
     ]
    }
   ],
   "source": [
    "def main(_):\n",
    "  num_tests =1000\n",
    "  server=\"10.110.13.207:9001\"\n",
    "  work_dir=\"/data/mnist\"\n",
    "  concurrency = 1\n",
    "  if num_tests > 10000:\n",
    "    print('num_tests should not be greater than 10k')\n",
    "    return\n",
    "  error_rate = do_inference(server, work_dir,\n",
    "                            concurrency, num_tests)\n",
    "  print('\\nInference error rate: %s%%' % (error_rate * 100))\n",
    "\n",
    "\n",
    "if __name__ == '__main__':\n",
    "  tf.app.run()\n",
    " \n"
   ]
  },
  {
   "cell_type": "code",
   "execution_count": null,
   "metadata": {
    "collapsed": true
   },
   "outputs": [],
   "source": [
    "%tb"
   ]
  },
  {
   "cell_type": "code",
   "execution_count": null,
   "metadata": {
    "collapsed": true
   },
   "outputs": [],
   "source": []
  }
 ],
 "metadata": {
  "kernelspec": {
   "display_name": "Python 2",
   "language": "python",
   "name": "python2"
  },
  "language_info": {
   "codemirror_mode": {
    "name": "ipython",
    "version": 2
   },
   "file_extension": ".py",
   "mimetype": "text/x-python",
   "name": "python",
   "nbconvert_exporter": "python",
   "pygments_lexer": "ipython2",
   "version": "2.7.13"
  }
 },
 "nbformat": 4,
 "nbformat_minor": 2
}
